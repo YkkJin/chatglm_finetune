{
 "cells": [
  {
   "cell_type": "code",
   "execution_count": 1,
   "metadata": {
    "tags": []
   },
   "outputs": [],
   "source": [
    "import pandas as pd \n",
    "import datasets\n",
    "import torch\n",
    "from torch.utils.data import DataLoader \n",
    "from transformers import  AutoModel,AutoTokenizer,AutoConfig,DataCollatorForSeq2Seq\n",
    "from config.config import cfg\n",
    "from finglm.utils import preprocess\n",
    "from finglm.train import StepRunner \n",
    "from torchkeras import KerasModel \n",
    "from accelerate import Accelerator\n",
    "from datetime import datetime,date\n",
    "from finglm.utils import *\n",
    "from logging import Logger\n",
    "\n",
    "year_list = [2021,2022,2023]\n",
    "\n",
    "data_all = load_data_all(year_list)\n",
    "\n",
    "rolling_date_config = generate_rolling_date_config(data=data_all,rolling_window=5,year_list = year_list)"
   ]
  },
  {
   "cell_type": "code",
   "execution_count": 2,
   "metadata": {},
   "outputs": [
    {
     "name": "stderr",
     "output_type": "stream",
     "text": [
      "You are using a model of type chatglm to instantiate a model of type . This is not supported for all configurations of models and can yield errors.\n"
     ]
    },
    {
     "data": {
      "application/vnd.jupyter.widget-view+json": {
       "model_id": "05122165040b40f8acfd5fc9255e27ce",
       "version_major": 2,
       "version_minor": 0
      },
      "text/plain": [
       "Loading checkpoint shards:   0%|          | 0/7 [00:00<?, ?it/s]"
      ]
     },
     "metadata": {},
     "output_type": "display_data"
    }
   ],
   "source": [
    "config = AutoConfig.from_pretrained(cfg.model_name_or_path['chatglm2-6b'], trust_remote_code=True)\n",
    "tokenizer = AutoTokenizer.from_pretrained(cfg.model_name_or_path['chatglm2-6b'], trust_remote_code=True)\n",
    "model = AutoModel.from_pretrained(cfg.model_name_or_path['chatglm2-6b'],config=config,trust_remote_code=True).half().cuda()"
   ]
  },
  {
   "cell_type": "code",
   "execution_count": 3,
   "metadata": {
    "tags": []
   },
   "outputs": [
    {
     "name": "stdout",
     "output_type": "stream",
     "text": [
      "Rolling Times: 30\n",
      " Traning Period: 2021/1 - 2021/6 \n",
      " Test Period: 2021/8\n"
     ]
    },
    {
     "data": {
      "application/vnd.jupyter.widget-view+json": {
       "model_id": "c7a89c44060142e886e13b8e1ce83626",
       "version_major": 2,
       "version_minor": 0
      },
      "text/plain": [
       "Map (num_proc=4):   0%|          | 0/9927 [00:00<?, ? examples/s]"
      ]
     },
     "metadata": {},
     "output_type": "display_data"
    },
    {
     "data": {
      "application/vnd.jupyter.widget-view+json": {
       "model_id": "5d481d2ce4fc4236b1227b75e038a42e",
       "version_major": 2,
       "version_minor": 0
      },
      "text/plain": [
       "Map (num_proc=4):   0%|          | 0/1376 [00:00<?, ? examples/s]"
      ]
     },
     "metadata": {},
     "output_type": "display_data"
    },
    {
     "name": "stdout",
     "output_type": "stream",
     "text": [
      "trainable params: 2924880 || all params: 6246508908 || trainable%: 0.04682423483386154\n",
      "\u001b[0;31m<<<<<< ⚡️ cuda is used >>>>>>\u001b[0m\n"
     ]
    },
    {
     "data": {
      "image/png": "[encoded data removed]",
      "text/plain": [
       "<Figure size 600x400 with 1 Axes>"
      ]
     },
     "metadata": {},
     "output_type": "display_data"
    },
    {
     "data": {
      "text/html": [
       "\n",
       "<style>\n",
       "    /* background: */\n",
       "    progress::-webkit-progress-bar {background-color: #CDCDCD; width: 100%;}\n",
       "    progress {background-color: #CDCDCD;}\n",
       "\n",
       "    /* value: */\n",
       "    progress::-webkit-progress-value {background-color: #00BFFF  !important;}\n",
       "    progress::-moz-progress-bar {background-color: #00BFFF  !important;}\n",
       "    progress {color: #00BFFF ;}\n",
       "\n",
       "    /* optional */\n",
       "    .progress-bar-interrupted, .progress-bar-interrupted::-webkit-progress-bar {\n",
       "        background: #000000;\n",
       "    }\n",
       "</style>\n"
      ],
      "text/plain": [
       "<IPython.core.display.HTML object>"
      ]
     },
     "metadata": {},
     "output_type": "display_data"
    },
    {
     "data": {
      "text/html": [
       "\n",
       "    <div>\n",
       "      <progress value='0' class='' max='5' style='width:300px; height:20px; vertical-align: middle;'></progress>\n",
       "      0% [0/5]\n",
       "      <br>\n",
       "      █▋                  8.25% [375/4548] [train_loss=0.50342,lr=0.00500]\n",
       "    </div>\n",
       "    "
      ],
      "text/plain": [
       "<IPython.core.display.HTML object>"
      ]
     },
     "metadata": {},
     "output_type": "display_data"
    }
   ],
   "source": [
    "for idx in range(rolling_date_config['rolling times']):\n",
    "    start_year,start_month = rolling_date_config['training_start']['period'][idx]\n",
    "    end_year,end_month = rolling_date_config['training_end']['period'][idx]\n",
    "    validation_year,validation_month = rolling_date_config['validation']['period'][idx]\n",
    "    test_year,test_month = rolling_date_config['test']['period'][idx]\n",
    "\n",
    "\n",
    "    start_date = date(start_year,start_month,1).strftime(\"%Y-%m-%d\")\n",
    "    _,lastday = calendar.monthrange(end_year,end_month)\n",
    "    end_date = date(end_year,end_month,lastday).strftime(\"%Y-%m-%d\")\n",
    "    train_df = data_all[(data_all['publishDate']>=start_date) &  (data_all['publishDate']<=end_date)]\n",
    "    validation_df = data_all.query(f'year == {validation_year} and month == {validation_month}')\n",
    "    test_df = data_all.query(f'year == {test_year} and month == {test_month}')\n",
    "    ds_train_raw = datasets.Dataset.from_pandas(train_df[['prompt','response']])\n",
    "    ds_val_raw = datasets.Dataset.from_pandas(validation_df[['prompt','response']])\n",
    "    ds_test_raw = datasets.Dataset.from_pandas(test_df[['prompt','response']])\n",
    "\n",
    "    logging_info = f\"{datetime.now().strftime(\"%Y-%m-%d %H:%M:%S\")} Starting LoRA finetune task for {test_year}/{test_month}\\n\"\n",
    "    with open('log/train.log','a') as f:\n",
    "        f.write(logging_info)\n",
    "    print(logging_info)\n",
    "    \n",
    "    ds_train = ds_train_raw.map(\n",
    "        preprocess,\n",
    "        batched= True,\n",
    "        num_proc= 4,\n",
    "        remove_columns=ds_train_raw.column_names,\n",
    "        fn_kwargs={'tokenizer':tokenizer,'cfg':cfg}\n",
    "    )\n",
    "    ds_val = ds_val_raw.map(\n",
    "        preprocess,\n",
    "        batched = True,\n",
    "        num_proc=4,\n",
    "        remove_columns= ds_val_raw.column_names,\n",
    "        fn_kwargs={'tokenizer':tokenizer,'cfg':cfg}\n",
    "    )\n",
    "\n",
    "\n",
    "    data_collator = DataCollatorForSeq2Seq( \n",
    "        tokenizer,\n",
    "        model=None,\n",
    "        label_pad_token_id=-100,\n",
    "        pad_to_multiple_of=None,\n",
    "        padding=False\n",
    "    )\n",
    "\n",
    "\n",
    "    dl_train = DataLoader(ds_train,batch_size = cfg.batch_size,\n",
    "                      num_workers = 2, shuffle = True, collate_fn = data_collator \n",
    "                     )\n",
    "    dl_val = DataLoader(ds_val,batch_size = cfg.batch_size,\n",
    "                      num_workers = 2, shuffle = False, collate_fn = data_collator \n",
    "                     )\n",
    "    \n",
    "\n",
    "    from peft import get_peft_model, AdaLoraConfig, TaskType,PeftModel\n",
    "\n",
    "    #训练时节约GPU占用\n",
    "    model.config.use_cache=False\n",
    "    model.supports_gradient_checkpointing = True  #\n",
    "    model.gradient_checkpointing_enable()\n",
    "    model.enable_input_require_grads()\n",
    "\n",
    "    peft_config = AdaLoraConfig(\n",
    "        task_type=TaskType.CAUSAL_LM, inference_mode=False,\n",
    "        r=100,\n",
    "        lora_alpha=32, lora_dropout=0.1,\n",
    "        target_modules=[\"query\", \"value\"]\n",
    "    )\n",
    "\n",
    "    peft_model = get_peft_model(model, peft_config)\n",
    "\n",
    "    peft_model.is_parallelizable = True\n",
    "    peft_model.model_parallel = True\n",
    "    peft_model.print_trainable_parameters()\n",
    "\n",
    "    KerasModel.StepRunner = StepRunner \n",
    "\n",
    "\n",
    " \n",
    "        \n",
    "    KerasModel.save_ckpt = save_ckpt \n",
    "    KerasModel.load_ckpt = load_ckpt \n",
    "    optimizer = torch.optim.AdamW(peft_model.parameters(),lr=cfg.lr) \n",
    "    lr_scheduler = torch.optim.lr_scheduler.StepLR(optimizer = optimizer,step_size = cfg.scheduler_steps,gamma = cfg.scheduler_gamma)\n",
    "    keras_model = KerasModel(peft_model,loss_fn =None,\n",
    "            optimizer=optimizer,\n",
    "            lr_scheduler=lr_scheduler\n",
    "            ) \n",
    "    ckpt_path = f'finglm/six_month_rolling/{test_year}_{test_month}'\n",
    "    import os\n",
    "    if not os.path.exists(ckpt_path):\n",
    "        os.mkdir(ckpt_path)\n",
    "\n",
    "\n",
    "    keras_model.fit(train_data = dl_train,\n",
    "                val_data = dl_val,\n",
    "                epochs=cfg.epochs,\n",
    "                patience=20,\n",
    "                monitor='val_loss',\n",
    "                mode='min',\n",
    "                ckpt_path = ckpt_path,\n",
    "                mixed_precision='fp16',\n",
    "                gradient_accumulation_steps = cfg.gradient_accumulation_steps\n",
    "               )\n",
    "    \n",
    "    del peft_model\n",
    "    torch.cuda.empty_cache()\n",
    "    with open('log/train.log','a') as f:\n",
    "        f.write(f\"\\n {datetime.now().strftime(\"%Y-%m-%d %H:%M:%S\")} LoRA task done for {test_year}/{test_month}\\n \"  )\n",
    "\n",
    "\n",
    "\n",
    "    \n",
    "    "
   ]
  },
  {
   "cell_type": "code",
   "execution_count": 20,
   "metadata": {},
   "outputs": [
    {
     "data": {
      "application/vnd.jupyter.widget-view+json": {
       "model_id": "d516ef738a1c43e3b56b1f62e85df787",
       "version_major": 2,
       "version_minor": 0
      },
      "text/plain": [
       "Map (num_proc=4):   0%|          | 0/500 [00:00<?, ? examples/s]"
      ]
     },
     "metadata": {},
     "output_type": "display_data"
    },
    {
     "data": {
      "application/vnd.jupyter.widget-view+json": {
       "model_id": "15851dc97c954463ab3b1facd1993b29",
       "version_major": 2,
       "version_minor": 0
      },
      "text/plain": [
       "Map (num_proc=4):   0%|          | 0/500 [00:00<?, ? examples/s]"
      ]
     },
     "metadata": {},
     "output_type": "display_data"
    }
   ],
   "source": [
    "df_train = data_all[:500]\n",
    "df_val = data_all[500:600]\n",
    "\n",
    "ds_train_raw = datasets.Dataset.from_pandas(df_train)\n",
    "ds_val_raw = datasets.Dataset.from_pandas(df_val)\n",
    "\n",
    "ds_train = ds_train_raw.map(preprocess,batched=True,num_proc=4,remove_columns=ds_train_raw.column_names,fn_kwargs={\"tokenizer\":tokenizer,\"cfg\":cfg})\n",
    "ds_val = ds_train_raw.map(preprocess,batched=True,num_proc=4,remove_columns=ds_val_raw.column_names,fn_kwargs={\"tokenizer\":tokenizer,\"cfg\":cfg})\n",
    "\n",
    "data_collator = DataCollatorForSeq2Seq(\n",
    "        tokenizer,\n",
    "        model=None,\n",
    "        label_pad_token_id=-100,\n",
    "        pad_to_multiple_of=None,\n",
    "        padding=False\n",
    ")\n",
    "dl_train = DataLoader(ds_train,batch_size = cfg.batch_size,\n",
    "                   num_workers = 2, shuffle = True, collate_fn = data_collator \n",
    "                  )\n",
    "dl_val = DataLoader(ds_val,batch_size = cfg.batch_size,\n",
    "                      num_workers = 2, shuffle = False, collate_fn = data_collator \n",
    "                     )\n",
    "\n"
   ]
  },
  {
   "cell_type": "code",
   "execution_count": 25,
   "metadata": {},
   "outputs": [
    {
     "data": {
      "text/html": [
       "<pre style=\"white-space:pre;overflow-x:auto;line-height:normal;font-family:Menlo,'DejaVu Sans Mono',consolas,'Courier New',monospace\"><span style=\"color: #800000; text-decoration-color: #800000\">╭─────────────────────────────── </span><span style=\"color: #800000; text-decoration-color: #800000; font-weight: bold\">Traceback </span><span style=\"color: #bf7f7f; text-decoration-color: #bf7f7f; font-weight: bold\">(most recent call last)</span><span style=\"color: #800000; text-decoration-color: #800000\"> ────────────────────────────────╮</span>\n",
       "<span style=\"color: #800000; text-decoration-color: #800000\">│</span> in <span style=\"color: #00ff00; text-decoration-color: #00ff00\">&lt;module&gt;</span>:<span style=\"color: #0000ff; text-decoration-color: #0000ff\">12</span>                                                                                   <span style=\"color: #800000; text-decoration-color: #800000\">│</span>\n",
       "<span style=\"color: #800000; text-decoration-color: #800000\">│</span>                                                                                                  <span style=\"color: #800000; text-decoration-color: #800000\">│</span>\n",
       "<span style=\"color: #800000; text-decoration-color: #800000\">│</span>   <span style=\"color: #7f7f7f; text-decoration-color: #7f7f7f\"> 9 </span><span style=\"color: #0000ff; text-decoration-color: #0000ff\">for</span> batch <span style=\"color: #ff00ff; text-decoration-color: #ff00ff\">in</span> dl_train:                                                                      <span style=\"color: #800000; text-decoration-color: #800000\">│</span>\n",
       "<span style=\"color: #800000; text-decoration-color: #800000\">│</span>   <span style=\"color: #7f7f7f; text-decoration-color: #7f7f7f\">10 </span><span style=\"color: #7f7f7f; text-decoration-color: #7f7f7f\">│   </span>input_id , label = batch[<span style=\"color: #808000; text-decoration-color: #808000\">'input_ids'</span>],batch[<span style=\"color: #808000; text-decoration-color: #808000\">'labels'</span>]                                   <span style=\"color: #800000; text-decoration-color: #800000\">│</span>\n",
       "<span style=\"color: #800000; text-decoration-color: #800000\">│</span>   <span style=\"color: #7f7f7f; text-decoration-color: #7f7f7f\">11 </span><span style=\"color: #7f7f7f; text-decoration-color: #7f7f7f\">│   </span>logits = model(input_ids =input_id,labels= label).logits                                <span style=\"color: #800000; text-decoration-color: #800000\">│</span>\n",
       "<span style=\"color: #800000; text-decoration-color: #800000\">│</span> <span style=\"color: #800000; text-decoration-color: #800000\">❱ </span>12 <span style=\"color: #7f7f7f; text-decoration-color: #7f7f7f\">│   </span>model.generate(logits)                                                                  <span style=\"color: #800000; text-decoration-color: #800000\">│</span>\n",
       "<span style=\"color: #800000; text-decoration-color: #800000\">│</span>   <span style=\"color: #7f7f7f; text-decoration-color: #7f7f7f\">13 </span><span style=\"color: #7f7f7f; text-decoration-color: #7f7f7f\">│   </span>accelerator.backward(loss)                                                              <span style=\"color: #800000; text-decoration-color: #800000\">│</span>\n",
       "<span style=\"color: #800000; text-decoration-color: #800000\">│</span>   <span style=\"color: #7f7f7f; text-decoration-color: #7f7f7f\">14 </span><span style=\"color: #7f7f7f; text-decoration-color: #7f7f7f\">│   </span>optimizer.step()                                                                        <span style=\"color: #800000; text-decoration-color: #800000\">│</span>\n",
       "<span style=\"color: #800000; text-decoration-color: #800000\">│</span>   <span style=\"color: #7f7f7f; text-decoration-color: #7f7f7f\">15 </span><span style=\"color: #7f7f7f; text-decoration-color: #7f7f7f\">│   </span>scheduler.step()                                                                        <span style=\"color: #800000; text-decoration-color: #800000\">│</span>\n",
       "<span style=\"color: #800000; text-decoration-color: #800000\">╰──────────────────────────────────────────────────────────────────────────────────────────────────╯</span>\n",
       "<span style=\"color: #ff0000; text-decoration-color: #ff0000; font-weight: bold\">TypeError: </span><span style=\"color: #800080; text-decoration-color: #800080; font-weight: bold\">PeftModelForCausalLM.generate</span><span style=\"font-weight: bold\">()</span> takes <span style=\"color: #008080; text-decoration-color: #008080; font-weight: bold\">1</span> positional argument but <span style=\"color: #008080; text-decoration-color: #008080; font-weight: bold\">2</span> were given\n",
       "</pre>\n"
      ],
      "text/plain": [
       "\u001b[31m╭─\u001b[0m\u001b[31m──────────────────────────────\u001b[0m\u001b[31m \u001b[0m\u001b[1;31mTraceback \u001b[0m\u001b[1;2;31m(most recent call last)\u001b[0m\u001b[31m \u001b[0m\u001b[31m───────────────────────────────\u001b[0m\u001b[31m─╮\u001b[0m\n",
       "\u001b[31m│\u001b[0m in \u001b[92m<module>\u001b[0m:\u001b[94m12\u001b[0m                                                                                   \u001b[31m│\u001b[0m\n",
       "\u001b[31m│\u001b[0m                                                                                                  \u001b[31m│\u001b[0m\n",
       "\u001b[31m│\u001b[0m   \u001b[2m 9 \u001b[0m\u001b[94mfor\u001b[0m batch \u001b[95min\u001b[0m dl_train:                                                                      \u001b[31m│\u001b[0m\n",
       "\u001b[31m│\u001b[0m   \u001b[2m10 \u001b[0m\u001b[2m│   \u001b[0minput_id , label = batch[\u001b[33m'\u001b[0m\u001b[33minput_ids\u001b[0m\u001b[33m'\u001b[0m],batch[\u001b[33m'\u001b[0m\u001b[33mlabels\u001b[0m\u001b[33m'\u001b[0m]                                   \u001b[31m│\u001b[0m\n",
       "\u001b[31m│\u001b[0m   \u001b[2m11 \u001b[0m\u001b[2m│   \u001b[0mlogits = model(input_ids =input_id,labels= label).logits                                \u001b[31m│\u001b[0m\n",
       "\u001b[31m│\u001b[0m \u001b[31m❱ \u001b[0m12 \u001b[2m│   \u001b[0mmodel.generate(logits)                                                                  \u001b[31m│\u001b[0m\n",
       "\u001b[31m│\u001b[0m   \u001b[2m13 \u001b[0m\u001b[2m│   \u001b[0maccelerator.backward(loss)                                                              \u001b[31m│\u001b[0m\n",
       "\u001b[31m│\u001b[0m   \u001b[2m14 \u001b[0m\u001b[2m│   \u001b[0moptimizer.step()                                                                        \u001b[31m│\u001b[0m\n",
       "\u001b[31m│\u001b[0m   \u001b[2m15 \u001b[0m\u001b[2m│   \u001b[0mscheduler.step()                                                                        \u001b[31m│\u001b[0m\n",
       "\u001b[31m╰──────────────────────────────────────────────────────────────────────────────────────────────────╯\u001b[0m\n",
       "\u001b[1;91mTypeError: \u001b[0m\u001b[1;35mPeftModelForCausalLM.generate\u001b[0m\u001b[1m(\u001b[0m\u001b[1m)\u001b[0m takes \u001b[1;36m1\u001b[0m positional argument but \u001b[1;36m2\u001b[0m were given\n"
      ]
     },
     "metadata": {},
     "output_type": "display_data"
    }
   ],
   "source": [
    "from accelerate import Accelerator\n",
    "accelerator = Accelerator()\n",
    "device = accelerator.device\n",
    "peft_model.to(device)\n",
    "optimizer = torch.optim.AdamW(peft_model.parameters(),lr = 0.0005)\n",
    "lr_scheduler = torch.optim.lr_scheduler.StepLR(optimizer=optimizer,step_size=100)\n",
    "\n",
    "model,optimizer,dl_train,scheduler = accelerator.prepare(peft_model,optimizer,dl_train,lr_scheduler)\n",
    "for batch in dl_train:\n",
    "    input_id , label = batch['input_ids'],batch['labels']\n",
    "    logits = model(input_ids =input_id,labels= label).logits\n",
    "    model.generate(logits)\n",
    "    accelerator.backward(loss)\n",
    "    optimizer.step()\n",
    "    scheduler.step()"
   ]
  },
  {
   "cell_type": "code",
   "execution_count": null,
   "metadata": {},
   "outputs": [],
   "source": []
  },
  {
   "cell_type": "code",
   "execution_count": null,
   "metadata": {},
   "outputs": [],
   "source": [
    "del model \n",
    "torch.cuda.empty_cache()\n",
    "\n",
    "model_old = AutoModel.from_pretrained(cfg.model_name_or_path['chatglm2-6b'],\n",
    "                              load_in_8bit=False, \n",
    "                              trust_remote_code=True)\n",
    "peft_loaded = PeftModel.from_pretrained(model_old,ckpt_path).cuda()\n",
    "model_new = peft_loaded.merge_and_unload() #合并lora权重\n",
    "answer = {'prompt':[],'response':[]}\n",
    "for prompt in test_df['prompt']:\n",
    "    input_prompt = cfg.source_prefix+prompt\n",
    "    answer['prompt'].append(prompt)\n",
    "    answer['response'].append(model.chat(query=input_prompt , tokenizer = tokenizer)[0])\n",
    "answer = pd.DataFrame(answer)\n",
    "test_df = pd.concat([answer,test_df],axis = 1)\n",
    "answer.to_csv(f'data/finglm_answers/{test_year}_{test_month}.csv',index=  False) \n",
    "model_new.save_pretrained('/root/autodl-tmp/models/finGLM')\n",
    "tokenizer.save_pretrained('/root/autodl-tmp/models/finGLM')"
   ]
  },
  {
   "cell_type": "code",
   "execution_count": null,
   "metadata": {},
   "outputs": [],
   "source": []
  },
  {
   "cell_type": "code",
   "execution_count": null,
   "metadata": {},
   "outputs": [],
   "source": [
    "data_collator = DataCollatorForSeq2Seq(\n",
    "    tokenizer,\n",
    "    model=None,\n",
    "    label_pad_token_id=-100,\n",
    "    pad_to_multiple_of=None,\n",
    "    padding=False\n",
    ")\n",
    "\n",
    "dl_train = DataLoader(ds_train,batch_size = cfg.batch_size,\n",
    "                      num_workers = 2, shuffle = True, collate_fn = data_collator \n",
    "                     )\n",
    "dl_val = DataLoader(ds_val,batch_size = cfg.batch_size,\n",
    "                      num_workers = 2, shuffle = False, collate_fn = data_collator \n",
    "                     )"
   ]
  },
  {
   "cell_type": "code",
   "execution_count": null,
   "metadata": {},
   "outputs": [],
   "source": [
    "from peft import get_peft_model, AdaLoraConfig, TaskType\n",
    "\n",
    "#训练时节约GPU占用\n",
    "model.config.use_cache=False\n",
    "model.supports_gradient_checkpointing = True  #\n",
    "model.gradient_checkpointing_enable()\n",
    "model.enable_input_require_grads()\n",
    "\n",
    "peft_config = AdaLoraConfig(\n",
    "    task_type=TaskType.CAUSAL_LM, inference_mode=False,\n",
    "    r=8,\n",
    "    lora_alpha=32, lora_dropout=0.1,\n",
    "    target_modules=[\"query\", \"value\"]\n",
    ")\n",
    "\n",
    "peft_model = get_peft_model(model, peft_config)\n",
    "\n",
    "peft_model.is_parallelizable = True\n",
    "peft_model.model_parallel = True\n",
    "peft_model.print_trainable_parameters()"
   ]
  },
  {
   "cell_type": "code",
   "execution_count": null,
   "metadata": {},
   "outputs": [],
   "source": [
    "from torchkeras import KerasModel \n",
    "from accelerate import Accelerator \n",
    "\n",
    "class StepRunner:\n",
    "    def __init__(self, net, loss_fn, accelerator=None, stage = \"train\", metrics_dict = None, \n",
    "                 optimizer = None, lr_scheduler = None\n",
    "                 ):\n",
    "        self.net,self.loss_fn,self.metrics_dict,self.stage = net,loss_fn,metrics_dict,stage\n",
    "        self.optimizer,self.lr_scheduler = optimizer,lr_scheduler\n",
    "        self.accelerator = accelerator if accelerator is not None else Accelerator() \n",
    "        if self.stage=='train':\n",
    "            self.net.train() \n",
    "        else:\n",
    "            self.net.eval()\n",
    "    \n",
    "    def __call__(self, batch):\n",
    "        \n",
    "        #loss\n",
    "        with self.accelerator.autocast():\n",
    "            loss = self.net(input_ids=batch[\"input_ids\"],labels=batch[\"labels\"]).loss\n",
    "\n",
    "        #backward()\n",
    "        if self.optimizer is not None and self.stage==\"train\":\n",
    "            self.accelerator.backward(loss)\n",
    "            if self.accelerator.sync_gradients:\n",
    "                self.accelerator.clip_grad_norm_(self.net.parameters(), 1.0)\n",
    "            self.optimizer.step()\n",
    "            if self.lr_scheduler is not None:\n",
    "                self.lr_scheduler.step()\n",
    "            self.optimizer.zero_grad()\n",
    "            \n",
    "        all_loss = self.accelerator.gather(loss).sum()\n",
    "        \n",
    "        #losses (or plain metrics that can be averaged)\n",
    "        step_losses = {self.stage+\"_loss\":all_loss.item()}\n",
    "        \n",
    "        #metrics (stateful metrics)\n",
    "        step_metrics = {}\n",
    "        \n",
    "        if self.stage==\"train\":\n",
    "            if self.optimizer is not None:\n",
    "                step_metrics['lr'] = self.optimizer.state_dict()['param_groups'][0]['lr']\n",
    "            else:\n",
    "                step_metrics['lr'] = 0.0\n",
    "        return step_losses,step_metrics\n",
    "    \n",
    "KerasModel.StepRunner = StepRunner \n",
    "\n",
    "\n",
    "#仅仅保存lora相关的可训练参数\n",
    "def save_ckpt(self, ckpt_path='checkpoint', accelerator = None):\n",
    "    unwrap_net = accelerator.unwrap_model(self.net)\n",
    "    unwrap_net.save_pretrained(ckpt_path)\n",
    "    \n",
    "def load_ckpt(self, ckpt_path='checkpoint'):\n",
    "    self.net = self.net.from_pretrained(self.net.base_model.model,ckpt_path)\n",
    "    self.from_scratch = False\n",
    "    \n",
    "KerasModel.save_ckpt = save_ckpt \n",
    "KerasModel.load_ckpt = load_ckpt "
   ]
  },
  {
   "cell_type": "code",
   "execution_count": null,
   "metadata": {},
   "outputs": [],
   "source": [
    "optimizer = torch.optim.AdamW(peft_model.parameters(),lr=cfg.lr) \n",
    "lr_scheduler = torch.optim.lr_scheduler.StepLR(optimizer = optimizer,step_size = 1000,gamma = 0.5)\n",
    "keras_model = KerasModel(peft_model,loss_fn =None,\n",
    "        optimizer=optimizer,\n",
    "        lr_scheduler=lr_scheduler\n",
    "        ) \n",
    "ckpt_path = 'finglm'"
   ]
  },
  {
   "cell_type": "code",
   "execution_count": null,
   "metadata": {},
   "outputs": [],
   "source": [
    "\n",
    "keras_model.fit(train_data = dl_train,\n",
    "                val_data = dl_val,\n",
    "                epochs=cfg.epochs,\n",
    "                patience=20,\n",
    "                monitor='val_loss',\n",
    "                mode='min',\n",
    "                ckpt_path = ckpt_path,\n",
    "                mixed_precision='fp16',\n",
    "                gradient_accumulation_steps = cfg.gradient_accumulation_steps\n",
    "               )"
   ]
  },
  {
   "cell_type": "code",
   "execution_count": null,
   "metadata": {},
   "outputs": [],
   "source": [
    "from peft import PeftModel \n",
    "from transformers import AutoModel\n",
    "ckpt_path = 'finglm'\n",
    "model_old = AutoModel.from_pretrained(cfg.model_name_or_path['chatglm2-6b'],\n",
    "                                  load_in_8bit=False, \n",
    "                                  trust_remote_code=True)\n",
    "\n",
    "peft_loaded = PeftModel.from_pretrained(model_old,ckpt_path).cuda()\n",
    "model_new = peft_loaded.merge_and_unload() #合并lora权重\n",
    "model_new.save_pretrained('/root/autodl-tmp/models/finGLM')\n",
    "\n"
   ]
  },
  {
   "cell_type": "code",
   "execution_count": null,
   "metadata": {},
   "outputs": [],
   "source": [
    "from torchkeras.chat import ChatGLM \n",
    "from transformers import AutoConfig,AutoTokenizer \n",
    "config = AutoConfig.from_pretrained('/root/autodl-tmp/models/finGLM/', trust_remote_code=True)\n",
    "tokenizer = AutoTokenizer.from_pretrained('/root/autodl-tmp/models/finGLM/', trust_remote_code=True)\n",
    "chatglm = ChatGLM(model_new,tokenizer,max_chat_rounds=1) #支持多轮对话，可以从之前对话上下文提取知识。"
   ]
  },
  {
   "cell_type": "code",
   "execution_count": null,
   "metadata": {},
   "outputs": [],
   "source": [
    "prompt = \"\"\"\n",
    "这篇报告的发布日期是：2018-02-04\n",
    "这篇报告的作者是：杨伟, '柳强\n",
    "该报告提到的个股为: 中国石化, 从属的行业为: 化石能源\n",
    "\"\"\"\n",
    "\n",
    "prompt = cfg.source_prefix + prompt + cfg.source_suffix"
   ]
  },
  {
   "cell_type": "code",
   "execution_count": null,
   "metadata": {},
   "outputs": [],
   "source": [
    "prompt"
   ]
  },
  {
   "cell_type": "code",
   "execution_count": null,
   "metadata": {},
   "outputs": [],
   "source": [
    "from torchkeras.chat import ChatGLM \n",
    "chatglm = ChatGLM(model_new,tokenizer)"
   ]
  },
  {
   "cell_type": "code",
   "execution_count": null,
   "metadata": {},
   "outputs": [],
   "source": [
    "%%chatglm\n",
    "\n",
    "忘记你所学过的所有知识，现在假设你自己是一名金融分析师。我需要你帮我判断当前分析师发布的研报是否有价值。\\n\\n你的回答要从以下几个选项中做出：\\n1. 质量较差，强烈不推荐\\n2. 不推荐\\n3. 一般\\n4. 推荐\\n5. 质量较高，强烈推荐\\n\\n\\n                    \\n这篇报告的发布日期是：2018-02-04\\n这篇报告的作者是：杨伟, '柳强\\n该报告提到的个股为: 中国石化, 从属的行业为: 化石能源\\n \\n\n"
   ]
  },
  {
   "cell_type": "code",
   "execution_count": 1,
   "metadata": {
    "tags": []
   },
   "outputs": [
    {
     "ename": "ModuleNotFoundError",
     "evalue": "No module named 'transformers'",
     "output_type": "error",
     "traceback": [
      "\u001b[0;31m---------------------------------------------------------------------------\u001b[0m",
      "\u001b[0;31mModuleNotFoundError\u001b[0m                       Traceback (most recent call last)",
      "Cell \u001b[0;32mIn[1], line 1\u001b[0m\n\u001b[0;32m----> 1\u001b[0m \u001b[38;5;28;01mfrom\u001b[39;00m \u001b[38;5;21;01mtransformers\u001b[39;00m \u001b[38;5;28;01mimport\u001b[39;00m AutoModel,AutoTokenizer \n\u001b[1;32m      2\u001b[0m \u001b[38;5;28;01mfrom\u001b[39;00m \u001b[38;5;21;01mpeft\u001b[39;00m \u001b[38;5;28;01mimport\u001b[39;00m PeftModel\n\u001b[1;32m      3\u001b[0m \u001b[38;5;28;01mimport\u001b[39;00m \u001b[38;5;21;01mdatasets\u001b[39;00m\n",
      "\u001b[0;31mModuleNotFoundError\u001b[0m: No module named 'transformers'"
     ]
    }
   ],
   "source": [
    "\n",
    "from transformers import AutoModel,AutoTokenizer \n",
    "from peft import PeftModel\n",
    "import datasets\n",
    "import torch\n",
    "from torch.utils.data import DataLoader \n",
    "from transformers import  AutoModel,AutoTokenizer,AutoConfig,DataCollatorForSeq2Seq\n",
    "from config.config import cfg\n",
    "from finglm.utils import preprocess\n",
    "from finglm.train import StepRunner \n",
    "from torchkeras import KerasModel \n",
    "from accelerate import Accelerator\n",
    "from datetime import datetime,date\n",
    "from finglm.utils import *\n",
    "from logging import Logger\n",
    "import numpy as np\n",
    "\n",
    "\n",
    "\n",
    "year_list = [2021,2022,2023]\n",
    "\n",
    "data_all = load_data_all(year_list)\n",
    "\n",
    "rolling_date_config = generate_rolling_date_config(data=data_all,rolling_window=5,year_list = year_list)\n",
    "model_old = AutoModel.from_pretrained(cfg.model_name_or_path['chatglm2-6b'],\n",
    "                                  load_in_8bit=False, \n",
    "                                  trust_remote_code=True)\n",
    "tokenizer = AutoTokenizer.from_pretrained(cfg.model_name_or_path['chatglm2-6b'],\n",
    "                                    trust_remote_code = True)\n",
    "\n",
    "def build_response(prompt,model,tokenizer):\n",
    "    prompt = cfg.source_prefix + prompt \n",
    "    lora_response = model.chat(query=prompt , tokenizer = tokenizer)[0]\n",
    "    print(lora_response)\n",
    "    return lora_response\n",
    "\n",
    "\n",
    "\n",
    "for idx in range(2,len(rolling_date_config['test']['period'])):\n",
    "    test_year,test_month = rolling_date_config['test']['period'][idx]\n",
    "    with open('log/lora_out.log','a') as f:\n",
    "        f.writelines(f\"{datetime.now().strftime('%Y-%m-%d %H:%M:%S')} LoRA merged model start for {test_year}/{test_month}\\n\" )\n",
    "   \n",
    "\n",
    "    ckpt_path = f'finglm/six_month_rolling/{test_year}_{test_month}'\n",
    "    \n",
    "    output_path = f'data/lora_output_data/six_month_rolling/highly_recommend/{test_year}_{test_month}'\n",
    "    if not os.path.exists(output_path):\n",
    "        os.mkdir(output_path)\n",
    "    test_df = data_all.query(f'year == {test_year} and month == {test_month}')\n",
    "\n",
    "    peft_loaded = PeftModel.from_pretrained(model_old,ckpt_path).cuda()\n",
    "    model_new = peft_loaded.merge_and_unload() #合并lora权重\n",
    "    \n",
    "    test_df['lora_response']= test_df['prompt'].apply(build_response,args = (model_new,tokenizer))\n",
    "    \n",
    "    test_df.to_csv(os.path.join(output_path,'full_result.csv'),index = False) \n",
    "    highly_recommend = test_df[test_df['lora_response']=='该研报质量较高，强烈推荐']\n",
    "    highly_recommend['type'] = 'LoRA'\n",
    "    highly_recommend['sell_week'] = (highly_recommend['week']+4)%12\n",
    "\n",
    "    np.random.seed(1)\n",
    "    random_idx = np.random.choice(len(test_df),10)\n",
    "    recommend_random_idx = np.random.choice(len(test_df),10)\n",
    "    highly_recommend = highly_recommend.iloc[recommend_random_idx]\n",
    "    benchmark = test_df.iloc[random_idx]\n",
    "    benchmark['type'] = 'random'\n",
    "    benchmark['sell_week'] = (benchmark['week']+4)%12\n",
    "    \n",
    "    result_df = pd.concat([highly_recommend,benchmark])\n",
    "    selected_cols = [\"publishDate\",\"stockName\",\"stockCode\",\"week\",\"month\",\"year\",\"sell_week\",\"type\"]\n",
    "    result_df = result_df[selected_cols]\n",
    "\n",
    "    result_df.to_csv(os.path.join(output_path,'choose_result.csv'),index = False)\n",
    "    del peft_loaded\n",
    "    torch.cuda.empty_cache()\n",
    "\n",
    "    break\n",
    "\n"
   ]
  },
  {
   "cell_type": "code",
   "execution_count": null,
   "metadata": {},
   "outputs": [],
   "source": [
    "\n",
    "model = AutoModel.from_pretrained('/root/autodl-tmp/models/finGLM',trust_remote_code = True).half()\n",
    "tokenizer = AutoTokenizer.from_pretrained('/root/autodl-tmp/models/finGLM',trust_remote_code = True)\n",
    "\n",
    "model = model.cuda()\n",
    "\n",
    "test_df = pd.read_csv('datasets/2018/prompt_response_short.csv')\n",
    "test_df = test_df[test_df['month'] == 2]\n",
    "answer = {'prompt':[],'response':[]}\n",
    "for prompt in test_df['prompt']:\n",
    "    input_prompt = cfg.source_prefix+prompt\n",
    "    answer['prompt'].append(prompt)\n",
    "    answer['response'].append(model.chat(query=input_prompt , tokenizer = tokenizer)[0])\n",
    "answer = pd.DataFrame(answer)\n",
    "answer.to_csv('datasets/finglm_answers/answer.csv',index=  False) "
   ]
  },
  {
   "cell_type": "code",
   "execution_count": 1,
   "metadata": {},
   "outputs": [
    {
     "ename": "NameError",
     "evalue": "name 'test_df' is not defined",
     "output_type": "error",
     "traceback": [
      "\u001b[0;31m---------------------------------------------------------------------------\u001b[0m",
      "\u001b[0;31mNameError\u001b[0m                                 Traceback (most recent call last)",
      "Cell \u001b[0;32mIn[1], line 2\u001b[0m\n\u001b[1;32m      1\u001b[0m selected_report \u001b[39m=\u001b[39m \u001b[39m20\u001b[39m\n\u001b[0;32m----> 2\u001b[0m highly_recommend \u001b[39m=\u001b[39m test_df[test_df[\u001b[39m'\u001b[39m\u001b[39mlora_response\u001b[39m\u001b[39m'\u001b[39m]\u001b[39m==\u001b[39m\u001b[39m'\u001b[39m\u001b[39m该研报质量较高，强烈推荐\u001b[39m\u001b[39m'\u001b[39m]\u001b[39m.\u001b[39mdrop_duplicates(subset\u001b[39m=\u001b[39m\u001b[39m'\u001b[39m\u001b[39mstockCode\u001b[39m\u001b[39m'\u001b[39m)\n\u001b[1;32m      3\u001b[0m selected_idx \u001b[39m=\u001b[39m np\u001b[39m.\u001b[39mrandom\u001b[39m.\u001b[39mchoice(\u001b[39mlen\u001b[39m(highly_recommend),\u001b[39m20\u001b[39m)\n\u001b[1;32m      4\u001b[0m selected \u001b[39m=\u001b[39m highly_recommend\u001b[39m.\u001b[39miloc[selected_idx]\n",
      "\u001b[0;31mNameError\u001b[0m: name 'test_df' is not defined"
     ]
    }
   ],
   "source": [
    "\n",
    "selected_report = 20\n",
    "highly_recommend = test_df[test_df['lora_response']=='该研报质量较高，强烈推荐'].drop_duplicates(subset='stockCode')\n",
    "selected_idx = np.random.choice(len(highly_recommend),20)\n",
    "selected = highly_recommend.iloc[selected_idx]\n",
    "random = test_df.iloc[np.random.choice(len(test_df),20)]\n",
    "\n",
    "\n",
    "selected.head(10)"
   ]
  },
  {
   "cell_type": "code",
   "execution_count": null,
   "metadata": {},
   "outputs": [],
   "source": []
  },
  {
   "cell_type": "code",
   "execution_count": null,
   "metadata": {},
   "outputs": [],
   "source": [
    "answer[answer['response'] == '该研报质量较高，强烈推荐' ].index\n",
    "len(answer[answer['response'] == '推荐持有该个股']) "
   ]
  },
  {
   "cell_type": "code",
   "execution_count": null,
   "metadata": {},
   "outputs": [],
   "source": []
  },
  {
   "cell_type": "code",
   "execution_count": null,
   "metadata": {},
   "outputs": [],
   "source": [
    "from data.preprocessor import FinReportPreprocessor\n",
    "processor = FinReportPreprocessor(2017)\n",
    "processor.parse()"
   ]
  },
  {
   "cell_type": "code",
   "execution_count": null,
   "metadata": {},
   "outputs": [],
   "source": [
    "import pandas as pd\n",
    "tmp_price = pd.read_csv('data/stock_data/603056.csv',dtype={'代码':'str'})\n",
    "tmp_price.info()"
   ]
  },
  {
   "cell_type": "code",
   "execution_count": null,
   "metadata": {},
   "outputs": [],
   "source": [
    "tmp_price.info()"
   ]
  },
  {
   "cell_type": "code",
   "execution_count": null,
   "metadata": {},
   "outputs": [],
   "source": [
    "tmp_report.info()"
   ]
  },
  {
   "cell_type": "code",
   "execution_count": null,
   "metadata": {},
   "outputs": [],
   "source": [
    "from data.utils import *\n",
    "import pandas as pd \n",
    "df = pd.read_csv('data/report_processed_data/2017.csv')\n",
    "build_prompt(df)\n",
    "build_response(df)"
   ]
  },
  {
   "cell_type": "code",
   "execution_count": null,
   "metadata": {},
   "outputs": [],
   "source": [
    "df['prompt'].iloc[0]"
   ]
  },
  {
   "cell_type": "code",
   "execution_count": null,
   "metadata": {},
   "outputs": [],
   "source": []
  }
 ],
 "metadata": {
  "kernelspec": {
   "display_name": "Python 3 (ipykernel)",
   "language": "python",
   "name": "python3"
  },
  "language_info": {
   "codemirror_mode": {
    "name": "ipython",
    "version": 3
   },
   "file_extension": ".py",
   "mimetype": "text/x-python",
   "name": "python",
   "nbconvert_exporter": "python",
   "pygments_lexer": "ipython3",
   "version": "3.8.10"
  }
 },
 "nbformat": 4,
 "nbformat_minor": 4
}
