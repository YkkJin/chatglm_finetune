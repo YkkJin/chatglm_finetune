{
 "cells": [
  {
   "cell_type": "code",
   "execution_count": 14,
   "metadata": {
    "tags": []
   },
   "outputs": [],
   "source": [
    "from transformers import AutoConfig,AutoTokenizer,AutoModelForSequenceClassification,DefaultDataCollator\n",
    "import datasets\n",
    "import torch\n",
    "from transformers.utils import PaddingStrategy\n",
    "from torch.utils.data import DataLoader,WeightedRandomSampler\n",
    "from argparse import Namespace\n",
    "from sklearn.utils.class_weight import compute_class_weight\n",
    "from peft import PeftModel,AdaLoraConfig,TaskType,get_peft_model\n",
    "import pandas as pd\n",
    "from collections import defaultdict\n",
    "from datetime import datetime\n",
    "from typing import Any, Callable, Dict, List, NewType, Optional, Tuple, Union\n",
    "from finglm.utils import load_data,load_data_all\n",
    "import warnings\n",
    "warnings.filterwarnings(\"ignore\")\n",
    "today =datetime.today().strftime(\"%Y%m%d_%H%M%S\")\n",
    "cfg = Namespace()\n",
    "cfg.prompt_column = \"prompt\"\n",
    "cfg.label_column = \"response\"\n",
    "cfg.prefix = \"\"\n",
    "cfg.source_length = 70\n",
    "cfg.target_length = 70\n",
    "cfg.device = \"cuda:0\"\n",
    "cfg.LABEL_MAPPING = {\n",
    "        \"强烈不推荐\": [0],\n",
    "        \"不推荐\":[1],\n",
    "        \"一般\":[2],\n",
    "        \"推荐\":[3],\n",
    "        \"强烈推荐\":[4],\n",
    "    }\n",
    "\n",
    "\n",
    "\n",
    "\n",
    "cfg.gradient_accumulation_steps = 500\n",
    "cfg.epochs = 10\n",
    "cfg.batch_size = 4\n",
    "cfg.lr = 1e-3\n",
    "cfg.scheduler_gamma = 0.5\n",
    "\n",
    "\n",
    "cfg.target_modules = [\"query_key_value\"]\n",
    "\n",
    "cfg.year = 2022\n",
    "cfg.read_ckpt_path = f\"/root/autodl-tmp/glm-finetune/finglm/five_year_data/20231107_104611\"\n",
    "cfg.save_ckpt_path = f\"/root/autodl-tmp/glm-finetune/finglm/five_year_data/{today}\"\n",
    "\n"
   ]
  },
  {
   "cell_type": "code",
   "execution_count": 15,
   "metadata": {
    "tags": []
   },
   "outputs": [],
   "source": [
    "model_path = \"/root/autodl-tmp/models/chatglm3-6b\"\n",
    "num_labels = 5\n",
    "problem_type = \"single_label_classification\"\n",
    "classifier_dropout = 0.2\n",
    "tokenizer = AutoTokenizer.from_pretrained(model_path,trust_remote_code = True)\n",
    "config = AutoConfig.from_pretrained(model_path,trust_remote_code = True)\n",
    "config.num_labels = num_labels\n",
    "config.problem_type = problem_type\n",
    "config.classifier_dropout = classifier_dropout\n",
    "config.output_hidden_states = True\n",
    "config.add_bias_linear = True\n",
    "\n",
    "\n",
    "\n"
   ]
  },
  {
   "cell_type": "code",
   "execution_count": 16,
   "metadata": {
    "tags": []
   },
   "outputs": [],
   "source": [
    "## load_data\n",
    "df = load_data_all([i for i in range(2017,cfg.year+1)])\n",
    "df = df[['month','year','prompt','response']]\n",
    "df.dropna(inplace = True)\n",
    "\n",
    "train_df = df.query(\"year == 2022 and month < 12\")\n",
    "val_df = df.query(\"year == 2022 and month == 12\")\n",
    "\n",
    "train_ds = datasets.Dataset.from_pandas(train_df)\n",
    "val_ds = datasets.Dataset.from_pandas(val_df)\n",
    "\n",
    "cfg.scheduler_steps = len(train_ds)//cfg.gradient_accumulation_steps"
   ]
  },
  {
   "cell_type": "code",
   "execution_count": 17,
   "metadata": {
    "tags": []
   },
   "outputs": [],
   "source": [
    "def multi_label_preprocess(examples,tokenizer,cfg)->Dict[str,Any]:\n",
    "    model_inputs = {\n",
    "        \"input_ids\": [],\n",
    "        \"attention_mask\": [],\n",
    "        \"position_ids\": [],\n",
    "        \"labels\": []\n",
    "    }\n",
    "    max_length = cfg.source_length + cfg.target_length\n",
    "    prefix = cfg.prefix\n",
    "    for idx in range(len(examples[cfg.prompt_column])):\n",
    "        if examples[cfg.prompt_column][idx] and examples[cfg.label_column][idx]:\n",
    "            prompt,label = examples[cfg.prompt_column][idx],examples[cfg.label_column][idx]\n",
    "            prompt = prefix+prompt\n",
    "            input_ids = tokenizer.build_single_message(\"observation\",\"\",prompt)\n",
    "            #input_ids = tokenizer.build_inputs_with_special_tokens(input_ids)\n",
    "            input_ids = input_ids + [tokenizer.eos_token_id]\n",
    "            encoded_inputs = tokenizer.encode_plus(input_ids,is_split_into_words = True)\n",
    "            padded_encoded_inputs = tokenizer._pad(encoded_inputs,max_length=max_length,padding_strategy = PaddingStrategy.MAX_LENGTH, return_attention_mask = True)\n",
    "            model_inputs[\"input_ids\"].append(padded_encoded_inputs[\"input_ids\"])\n",
    "            model_inputs[\"attention_mask\"].append(padded_encoded_inputs[\"attention_mask\"])\n",
    "            model_inputs[\"position_ids\"].append(padded_encoded_inputs[\"position_ids\"])\n",
    "            model_inputs[\"labels\"].append(cfg.LABEL_MAPPING[label])\n",
    "    return model_inputs\n",
    "\n",
    "\n",
    "\n",
    "def weighted_sampler(df: pd.DataFrame,cfg) -> Tuple[Dict[int,float],WeightedRandomSampler]:\n",
    "    classes = df[cfg.label_column].unique()\n",
    "    class_weight = compute_class_weight(\"balanced\",classes=classes, y = df[cfg.label_column].values)\n",
    "    label_weight = defaultdict()\n",
    "    for class_label,weight in zip(classes,class_weight):\n",
    "        label_weight[cfg.LABEL_MAPPING[class_label][0]] = weight\n",
    "    sampler = WeightedRandomSampler(weights=torch.tensor([label_weight[cfg.LABEL_MAPPING[class_label][0]] for class_label in df[cfg.label_column].values]).to(cfg.device),num_samples = len(df[cfg.label_column].values),replacement = True)\n",
    "    return label_weight,sampler\n",
    "        \n",
    "    \n",
    "\n"
   ]
  },
  {
   "cell_type": "code",
   "execution_count": 18,
   "metadata": {
    "tags": []
   },
   "outputs": [
    {
     "data": {
      "application/vnd.jupyter.widget-view+json": {
       "model_id": "",
       "version_major": 2,
       "version_minor": 0
      },
      "text/plain": [
       "Map (num_proc=8):   0%|          | 0/31051 [00:00<?, ? examples/s]"
      ]
     },
     "metadata": {},
     "output_type": "display_data"
    },
    {
     "data": {
      "application/vnd.jupyter.widget-view+json": {
       "model_id": "",
       "version_major": 2,
       "version_minor": 0
      },
      "text/plain": [
       "Map (num_proc=8):   0%|          | 0/1064 [00:00<?, ? examples/s]"
      ]
     },
     "metadata": {},
     "output_type": "display_data"
    }
   ],
   "source": [
    "train_model_inputs = train_ds.map(multi_label_preprocess,batched = True,num_proc=8,remove_columns = train_ds.column_names,fn_kwargs={\"tokenizer\":tokenizer,\"cfg\":cfg})\n",
    "val_model_inputs = val_ds.map(multi_label_preprocess,batched = True,num_proc=8,remove_columns = val_ds.column_names,fn_kwargs={\"tokenizer\":tokenizer,\"cfg\":cfg})\n",
    "collate_fn =  DefaultDataCollator(return_tensors = 'pt')\n",
    "label_weight,sampler = weighted_sampler(train_df,cfg)\n",
    "train_dl = DataLoader(train_model_inputs,batch_size = cfg.batch_size,collate_fn = collate_fn,sampler = sampler)\n",
    "val_dl = DataLoader(val_model_inputs,batch_size=cfg.batch_size,collate_fn=collate_fn,shuffle=False)\n",
    "\n",
    "config.label_weight = label_weight"
   ]
  },
  {
   "cell_type": "code",
   "execution_count": 8,
   "metadata": {
    "tags": []
   },
   "outputs": [
    {
     "data": {
      "application/vnd.jupyter.widget-view+json": {
       "model_id": "ae390c8c3e2147648b2c74e1b2522af8",
       "version_major": 2,
       "version_minor": 0
      },
      "text/plain": [
       "Loading checkpoint shards:   0%|          | 0/7 [00:00<?, ?it/s]"
      ]
     },
     "metadata": {},
     "output_type": "display_data"
    },
    {
     "name": "stderr",
     "output_type": "stream",
     "text": [
      "Some weights of ChatGLMForSequenceClassification were not initialized from the model checkpoint at /root/autodl-tmp/models/chatglm3-6b and are newly initialized: ['transformer.encoder.layers.10.self_attention.dense.bias', 'transformer.encoder.layers.0.mlp.dense_4h_to_h.bias', 'transformer.encoder.layers.0.self_attention.dense.bias', 'transformer.encoder.layers.26.mlp.dense_h_to_4h.bias', 'transformer.encoder.layers.23.mlp.dense_h_to_4h.bias', 'transformer.encoder.layers.24.self_attention.dense.bias', 'transformer.encoder.layers.25.mlp.dense_4h_to_h.bias', 'transformer.encoder.layers.16.self_attention.dense.bias', 'transformer.encoder.layers.15.mlp.dense_h_to_4h.bias', 'classifier_head.bias', 'transformer.encoder.layers.27.self_attention.dense.bias', 'transformer.encoder.layers.22.mlp.dense_h_to_4h.bias', 'transformer.encoder.layers.9.mlp.dense_h_to_4h.bias', 'transformer.encoder.layers.24.mlp.dense_h_to_4h.bias', 'transformer.encoder.layers.4.mlp.dense_h_to_4h.bias', 'transformer.encoder.layers.10.mlp.dense_h_to_4h.bias', 'transformer.encoder.layers.14.mlp.dense_4h_to_h.bias', 'transformer.encoder.layers.11.mlp.dense_h_to_4h.bias', 'transformer.encoder.layers.14.mlp.dense_h_to_4h.bias', 'transformer.encoder.layers.5.self_attention.dense.bias', 'transformer.encoder.layers.16.mlp.dense_4h_to_h.bias', 'transformer.encoder.layers.9.mlp.dense_4h_to_h.bias', 'transformer.encoder.layers.21.mlp.dense_4h_to_h.bias', 'transformer.encoder.layers.4.mlp.dense_4h_to_h.bias', 'transformer.encoder.layers.15.mlp.dense_4h_to_h.bias', 'transformer.encoder.layers.3.self_attention.dense.bias', 'transformer.encoder.layers.16.mlp.dense_h_to_4h.bias', 'transformer.encoder.layers.8.mlp.dense_4h_to_h.bias', 'transformer.encoder.layers.8.mlp.dense_h_to_4h.bias', 'transformer.encoder.layers.14.self_attention.dense.bias', 'transformer.encoder.layers.19.mlp.dense_h_to_4h.bias', 'transformer.encoder.layers.20.mlp.dense_4h_to_h.bias', 'transformer.encoder.layers.21.mlp.dense_h_to_4h.bias', 'transformer.encoder.layers.7.mlp.dense_4h_to_h.bias', 'transformer.encoder.layers.13.mlp.dense_h_to_4h.bias', 'transformer.encoder.layers.20.mlp.dense_h_to_4h.bias', 'transformer.encoder.layers.3.mlp.dense_4h_to_h.bias', 'transformer.encoder.layers.26.self_attention.dense.bias', 'transformer.encoder.layers.26.mlp.dense_4h_to_h.bias', 'transformer.encoder.layers.15.self_attention.dense.bias', 'transformer.encoder.layers.19.self_attention.dense.bias', 'transformer.encoder.layers.13.self_attention.dense.bias', 'transformer.encoder.layers.23.mlp.dense_4h_to_h.bias', 'transformer.encoder.layers.2.self_attention.dense.bias', 'transformer.encoder.layers.5.mlp.dense_h_to_4h.bias', 'transformer.encoder.layers.22.mlp.dense_4h_to_h.bias', 'transformer.encoder.layers.2.mlp.dense_4h_to_h.bias', 'transformer.encoder.layers.8.self_attention.dense.bias', 'transformer.encoder.layers.18.mlp.dense_4h_to_h.bias', 'transformer.encoder.layers.7.self_attention.dense.bias', 'transformer.encoder.layers.12.mlp.dense_h_to_4h.bias', 'transformer.encoder.layers.17.self_attention.dense.bias', 'transformer.encoder.layers.9.self_attention.dense.bias', 'transformer.encoder.layers.1.mlp.dense_4h_to_h.bias', 'transformer.encoder.layers.25.self_attention.dense.bias', 'transformer.encoder.layers.20.self_attention.dense.bias', 'transformer.encoder.layers.2.mlp.dense_h_to_4h.bias', 'transformer.encoder.layers.5.mlp.dense_4h_to_h.bias', 'transformer.encoder.layers.11.mlp.dense_4h_to_h.bias', 'transformer.encoder.layers.22.self_attention.dense.bias', 'transformer.encoder.layers.6.mlp.dense_h_to_4h.bias', 'transformer.encoder.layers.27.mlp.dense_h_to_4h.bias', 'transformer.encoder.layers.4.self_attention.dense.bias', 'transformer.encoder.layers.3.mlp.dense_h_to_4h.bias', 'transformer.encoder.layers.12.mlp.dense_4h_to_h.bias', 'transformer.encoder.layers.18.self_attention.dense.bias', 'transformer.encoder.layers.17.mlp.dense_h_to_4h.bias', 'classifier_head.weight', 'transformer.encoder.layers.21.self_attention.dense.bias', 'transformer.encoder.layers.19.mlp.dense_4h_to_h.bias', 'transformer.encoder.layers.25.mlp.dense_h_to_4h.bias', 'transformer.encoder.layers.24.mlp.dense_4h_to_h.bias', 'transformer.encoder.layers.1.self_attention.dense.bias', 'transformer.encoder.layers.13.mlp.dense_4h_to_h.bias', 'transformer.encoder.layers.1.mlp.dense_h_to_4h.bias', 'transformer.encoder.layers.0.mlp.dense_h_to_4h.bias', 'transformer.encoder.layers.10.mlp.dense_4h_to_h.bias', 'transformer.encoder.layers.27.mlp.dense_4h_to_h.bias', 'transformer.encoder.layers.6.self_attention.dense.bias', 'transformer.encoder.layers.23.self_attention.dense.bias', 'transformer.encoder.layers.7.mlp.dense_h_to_4h.bias', 'transformer.encoder.layers.6.mlp.dense_4h_to_h.bias', 'transformer.encoder.layers.11.self_attention.dense.bias', 'transformer.encoder.layers.17.mlp.dense_4h_to_h.bias', 'transformer.encoder.layers.12.self_attention.dense.bias', 'transformer.encoder.layers.18.mlp.dense_h_to_4h.bias']\n",
      "You should probably TRAIN this model on a down-stream task to be able to use it for predictions and inference.\n"
     ]
    },
    {
     "name": "stdout",
     "output_type": "stream",
     "text": [
      "Modle Config:\n",
      "ChatGLMConfig {\n",
      "  \"_name_or_path\": \"/root/autodl-tmp/models/chatglm3-6b\",\n",
      "  \"add_bias_linear\": true,\n",
      "  \"add_qkv_bias\": true,\n",
      "  \"apply_query_key_layer_scaling\": true,\n",
      "  \"apply_residual_connection_post_layernorm\": false,\n",
      "  \"architectures\": [\n",
      "    \"ChatGLMModel\"\n",
      "  ],\n",
      "  \"attention_dropout\": 0.0,\n",
      "  \"attention_softmax_in_fp32\": true,\n",
      "  \"auto_map\": {\n",
      "    \"AutoConfig\": \"configuration_chatglm.ChatGLMConfig\",\n",
      "    \"AutoModel\": \"modeling_chatglm.ChatGLMForConditionalGeneration\",\n",
      "    \"AutoModelForCausalLM\": \"modeling_chatglm.ChatGLMForConditionalGeneration\",\n",
      "    \"AutoModelForSeq2SeqLM\": \"modeling_chatglm.ChatGLMForConditionalGeneration\",\n",
      "    \"AutoModelForSequenceClassification\": \"modeling_chatglm.ChatGLMForSequenceClassification\"\n",
      "  },\n",
      "  \"bias_dropout_fusion\": true,\n",
      "  \"classifier_dropout\": 0.2,\n",
      "  \"eos_token_id\": 2,\n",
      "  \"ffn_hidden_size\": 13696,\n",
      "  \"fp32_residual_connection\": false,\n",
      "  \"hidden_dropout\": 0.0,\n",
      "  \"hidden_size\": 4096,\n",
      "  \"id2label\": {\n",
      "    \"0\": \"LABEL_0\",\n",
      "    \"1\": \"LABEL_1\",\n",
      "    \"2\": \"LABEL_2\",\n",
      "    \"3\": \"LABEL_3\",\n",
      "    \"4\": \"LABEL_4\"\n",
      "  },\n",
      "  \"kv_channels\": 128,\n",
      "  \"label2id\": {\n",
      "    \"LABEL_0\": 0,\n",
      "    \"LABEL_1\": 1,\n",
      "    \"LABEL_2\": 2,\n",
      "    \"LABEL_3\": 3,\n",
      "    \"LABEL_4\": 4\n",
      "  },\n",
      "  \"label_weight\": {\n",
      "    \"0\": 1.0254623513870542,\n",
      "    \"1\": 1.0851301764808667,\n",
      "    \"2\": 0.7137340535570624,\n",
      "    \"3\": 1.38373440285205,\n",
      "    \"4\": 1.0209107348347854\n",
      "  },\n",
      "  \"layernorm_epsilon\": 1e-05,\n",
      "  \"model_type\": \"chatglm\",\n",
      "  \"multi_query_attention\": true,\n",
      "  \"multi_query_group_num\": 2,\n",
      "  \"num_attention_heads\": 32,\n",
      "  \"num_layers\": 28,\n",
      "  \"original_rope\": true,\n",
      "  \"output_hidden_states\": true,\n",
      "  \"pad_token_id\": 0,\n",
      "  \"padded_vocab_size\": 65024,\n",
      "  \"post_layer_norm\": true,\n",
      "  \"pre_seq_len\": null,\n",
      "  \"prefix_projection\": false,\n",
      "  \"problem_type\": \"single_label_classification\",\n",
      "  \"quantization_bit\": 0,\n",
      "  \"rmsnorm\": true,\n",
      "  \"seq_length\": 8192,\n",
      "  \"tie_word_embeddings\": false,\n",
      "  \"torch_dtype\": \"float16\",\n",
      "  \"transformers_version\": \"4.30.2\",\n",
      "  \"use_cache\": true,\n",
      "  \"vocab_size\": 65024\n",
      "}\n",
      "\n",
      "====================================================================================================\n",
      "LoRA Module:\n",
      "trainable params: 2924880 || all params: 6247525745 || trainable%: 0.04681661379852385\n",
      "====================================================================================================\n",
      "With Classifier Head:\n",
      "trainable params: 2945365 || all params: 6247525745 || trainable%: 0.047144503603802276\n"
     ]
    }
   ],
   "source": [
    "##PEFT settings\n",
    "adalora = AdaLoraConfig(\n",
    "    task_type = TaskType.SEQ_CLS,\n",
    "    target_modules=cfg.target_modules,\n",
    "    init_r=12,\n",
    "    target_r=0,\n",
    "    beta1=0.85,\n",
    "    beta2=0.85,\n",
    "    tinit=200,\n",
    "    tfinal=1000,\n",
    "    deltaT=10,\n",
    "    lora_alpha=32,\n",
    "    lora_dropout=0.2,\n",
    "    inference_mode=False\n",
    ")\n",
    "model = AutoModelForSequenceClassification.from_pretrained(model_path,config = config,trust_remote_code = True,torch_dtype=torch.float16).cuda()\n",
    "model = PeftModel.from_pretrained(model,cfg.read_ckpt_path,is_trainable = True).cuda() # 添加is_trainable=True使LoRA参数参与训练\n",
    "#model = model.merge_and_unload() #与之前训练的LoRA权重融合\n",
    "#model = get_peft_model(model,adalora) # 添加新的LoRA块\n",
    "\n",
    "#model.classifier_head.load_state_dict(torch.load(f'{cfg.read_ckpt_path}/classifier_head.bin')) # 加载之前训练的classifier_head的参数\n",
    "\n",
    "print(f\"Modle Config:\")\n",
    "print(model.config)\n",
    "print(\"=\"*100)\n",
    "print(\"LoRA Module:\")\n",
    "model.print_trainable_parameters()\n",
    "print(\"=\"*100)\n",
    "\n",
    "def enable_trainable_module(model,names: List[str])->None:\n",
    "    for module_name,params in model.named_parameters():\n",
    "        for name in names:\n",
    "            if name in names.split('.'):\n",
    "                params.requires_grad = True\n",
    "                params.data = params.data.float()\n",
    "\n",
    "for parameter in model.classifier_head.parameters(): \n",
    "    parameter.requires_grad = True # classifier_head的weight和bias参数参与梯度计算\n",
    "    parameter.data = parameter.data.float() # 转换为 torch.float32，否则梯度计算会报ValueError: Attempting to unscale FP16 gradients.\n",
    "print(\"With Classifier Head:\")\n",
    "model.print_trainable_parameters()"
   ]
  },
  {
   "cell_type": "code",
   "execution_count": 9,
   "metadata": {
    "tags": []
   },
   "outputs": [],
   "source": [
    "\n",
    "## config.is_add_bias = True后，MLP,dense层的bias会出现nan值，这里重新设置为0，否则loss会变成nan\n",
    "\n",
    "for i in range(28):\n",
    "    self_attention_dense_bias = model.base_model.model.transformer.encoder.layers[i].self_attention.dense.bias.data\n",
    "    \n",
    "    dense_h_to_4h_bias = model.base_model.model.transformer.encoder.layers[i].mlp.dense_h_to_4h.bias.data\n",
    "    dense_4h_to_h_bias = model.base_model.model.transformer.encoder.layers[i].mlp.dense_4h_to_h.bias.data\n",
    "    \n",
    "    model.base_model.model.transformer.encoder.layers[i].self_attention.dense.bias.data = torch.zeros(self_attention_dense_bias.shape,device = self_attention_dense_bias.device,dtype=torch.float16 )\n",
    "    model.base_model.model.transformer.encoder.layers[i].mlp.dense_h_to_4h.bias.data = torch.zeros(dense_h_to_4h_bias.shape,device = dense_h_to_4h_bias.device,dtype=torch.float16)\n",
    "    model.base_model.model.transformer.encoder.layers[i].mlp.dense_4h_to_h.bias.data = torch.zeros(dense_4h_to_h_bias.shape,device = dense_4h_to_h_bias.device,dtype=torch.float16)\n",
    "    \n",
    "    \n",
    "    self_attention_dense_bias.detach()\n",
    "    dense_h_to_4h_bias.detach()\n",
    "    dense_4h_to_h_bias.detach()\n",
    "    \n",
    "    del self_attention_dense_bias\n",
    "    del dense_h_to_4h_bias\n",
    "    del dense_4h_to_h_bias\n",
    "       "
   ]
  },
  {
   "cell_type": "code",
   "execution_count": 10,
   "metadata": {
    "tags": []
   },
   "outputs": [],
   "source": [
    "from torchkeras import KerasModel \n",
    "import torch.nn as nn\n",
    "from accelerate import Accelerator \n",
    "import os\n",
    "\n",
    "class Accuracy(nn.Module):\n",
    "    'Reloaded Accuracy from torchkeras.metrics'\n",
    "    def __init__(self):\n",
    "        super().__init__()\n",
    "        self.correct = nn.Parameter(torch.tensor(0),requires_grad=False)\n",
    "        self.total = nn.Parameter(torch.tensor(0),requires_grad=False)\n",
    "        \n",
    "    def forward(self, preds: torch.Tensor, targets: torch.Tensor):\n",
    "        #assert preds.shape == targets.shape\n",
    "        correct_i = torch.sum(torch.argmax(preds.view(-1,5),dim=1)==targets.view(-1)) \n",
    "        total_i = targets.view(-1).numel()\n",
    "\n",
    "        self.correct += correct_i \n",
    "        self.total += total_i\n",
    "        return correct_i.float()/total_i\n",
    "    \n",
    "    def compute(self):\n",
    "        return self.correct.float()/self.total \n",
    "    \n",
    "    def reset(self):\n",
    "        self.correct-=self.correct\n",
    "        self.total-=self.total\n",
    "    \n",
    "\n",
    "\n",
    "\n",
    "class StepRunner:\n",
    "    def __init__(self, net, loss_fn, accelerator=None, stage = \"train\", metrics_dict = None, \n",
    "                 optimizer = None, lr_scheduler = None,weight_dict = None\n",
    "                 ):\n",
    "        self.net,self.loss_fn,self.metrics_dict,self.stage = net,loss_fn,metrics_dict,stage\n",
    "        self.optimizer,self.lr_scheduler = optimizer,lr_scheduler\n",
    "        self.weight_dict = weight_dict\n",
    "        self.accelerator = accelerator if accelerator is not None else Accelerator() \n",
    "        if self.stage=='train':\n",
    "            self.net.train() \n",
    "        else:\n",
    "            self.net.eval()\n",
    "    \n",
    "    def __call__(self, batch):\n",
    "        labels = batch[\"labels\"]\n",
    "        \n",
    "        #loss\n",
    "        with self.accelerator.autocast():\n",
    "            output = self.net(**batch)\n",
    "            loss = output.loss\n",
    "            preds = output.logits\n",
    "\n",
    "            \n",
    "        #print(labels.dtype)\n",
    "        #print(f\"model logits: {preds}\")\n",
    "        #print(f\"labels: {labels}\")\n",
    "        \n",
    "        #backward()\n",
    "        if self.optimizer is not None and self.stage==\"train\":\n",
    "            self.accelerator.backward(loss)\n",
    "            if self.accelerator.sync_gradients:\n",
    "                self.accelerator.clip_grad_norm_(self.net.parameters(), 1.0)\n",
    "            self.optimizer.step()\n",
    "            if self.lr_scheduler is not None:\n",
    "                self.lr_scheduler.step()\n",
    "            self.optimizer.zero_grad()\n",
    "            \n",
    "        all_loss = self.accelerator.gather(loss).sum()\n",
    "        all_preds = self.accelerator.gather(preds)\n",
    "        all_labels = self.accelerator.gather(labels)\n",
    "        \n",
    "        #losses (or plain metrics that can be averaged)\n",
    "        step_losses = {self.stage+\"_loss\":all_loss.item()}\n",
    "        \n",
    "        #metrics (stateful metrics)\n",
    "        step_metrics = {self.stage+\"_\"+name:metric_fn(all_preds, all_labels).item() \n",
    "                        for name,metric_fn in self.metrics_dict.items()}\n",
    "        \n",
    "        if self.stage==\"train\":\n",
    "            if self.optimizer is not None:\n",
    "                step_metrics['lr'] = self.optimizer.state_dict()['param_groups'][0]['lr']\n",
    "            else:\n",
    "                step_metrics['lr'] = 0.0\n",
    "        return step_losses,step_metrics\n",
    "\n",
    "#保存lora以及分类器相关的可训练参数\n",
    "def save_ckpt(self, ckpt_path='checkpoint', accelerator = None):\n",
    "    unwrap_net = accelerator.unwrap_model(self.net)\n",
    "    unwrap_net.save_pretrained(ckpt_path)\n",
    "    torch.save(unwrap_net.classifier_head.state_dict(),os.path.join(ckpt_path,'classifier_head.bin'))\n",
    "    \n",
    "def load_ckpt(self, ckpt_path='checkpoint'):\n",
    "    self.net = self.net.from_pretrained(self.net.base_model.model,ckpt_path)\n",
    "    self.net.classifier_head.load_state_dict(torch.load(os.path.join(ckpt_path,'classifier_head.bin')))\n",
    "    self.from_scratch = False\n",
    "\n",
    "\n",
    "\n",
    "\n"
   ]
  },
  {
   "cell_type": "code",
   "execution_count": 11,
   "metadata": {
    "tags": []
   },
   "outputs": [],
   "source": [
    "KerasModel.StepRunner = StepRunner\n",
    "KerasModel.save_ckpt = save_ckpt\n",
    "KerasModel.load_ckpt = load_ckpt\n",
    "\n",
    "metrics_dict = {\"acc\":Accuracy()}\n",
    "\n",
    "\n",
    "optimizer = torch.optim.AdamW(model.parameters(),lr=cfg.lr) \n",
    "lr_scheduler = torch.optim.lr_scheduler.StepLR(optimizer = optimizer,step_size = cfg.scheduler_steps,gamma = cfg.scheduler_gamma)\n",
    "keras_model = KerasModel(model,loss_fn =None,\n",
    "                optimizer=optimizer,\n",
    "                lr_scheduler=lr_scheduler,\n",
    "                metrics_dict=metrics_dict\n",
    "                ) \n"
   ]
  },
  {
   "cell_type": "code",
   "execution_count": 12,
   "metadata": {
    "tags": []
   },
   "outputs": [
    {
     "name": "stdout",
     "output_type": "stream",
     "text": [
      "\u001b[0;31m<<<<<< ⚡️ cuda is used >>>>>>\u001b[0m\n"
     ]
    },
    {
     "data": {
      "image/png": "[encoded data removed]",
      "text/plain": [
       "<Figure size 600x400 with 1 Axes>"
      ]
     },
     "metadata": {},
     "output_type": "display_data"
    },
    {
     "data": {
      "text/html": [
       "\n",
       "<style>\n",
       "    /* background: */\n",
       "    progress::-webkit-progress-bar {background-color: #CDCDCD; width: 100%;}\n",
       "    progress {background-color: #CDCDCD;}\n",
       "\n",
       "    /* value: */\n",
       "    progress::-webkit-progress-value {background-color: #00BFFF  !important;}\n",
       "    progress::-moz-progress-bar {background-color: #00BFFF  !important;}\n",
       "    progress {color: #00BFFF ;}\n",
       "\n",
       "    /* optional */\n",
       "    .progress-bar-interrupted, .progress-bar-interrupted::-webkit-progress-bar {\n",
       "        background: #000000;\n",
       "    }\n",
       "</style>\n"
      ],
      "text/plain": [
       "<IPython.core.display.HTML object>"
      ]
     },
     "metadata": {},
     "output_type": "display_data"
    },
    {
     "data": {
      "text/html": [
       "\n",
       "    <div>\n",
       "      <progress value='10' class='' max='10' style='width:300px; height:20px; vertical-align: middle;'></progress>\n",
       "      [3:21:22]\n",
       "      <br>\n",
       "      ████████████████████100.00% [266/266] [val_loss=1.60695,val_acc=0.25470]\n",
       "    </div>\n",
       "    "
      ],
      "text/plain": [
       "<IPython.core.display.HTML object>"
      ]
     },
     "metadata": {},
     "output_type": "display_data"
    }
   ],
   "source": [
    "dfhistory = keras_model.fit(\n",
    "    train_data=train_dl,\n",
    "    val_data=val_dl,\n",
    "    epochs = cfg.epochs,\n",
    "    monitor=\"val_loss\",\n",
    "    patience=20,\n",
    "    mode='min',\n",
    "    mixed_precision='fp16',\n",
    "    ckpt_path=cfg.save_ckpt_path,\n",
    "    gradient_accumulation_steps=cfg.gradient_accumulation_steps\n",
    ")\n",
    "dfhistory.to_csv(os.path.join(cfg.save_ckpt_path,\"result.csv\"))"
   ]
  }
 ],
 "metadata": {
  "kernelspec": {
   "display_name": "glm-conda",
   "language": "python",
   "name": "glm-conda"
  },
  "language_info": {
   "codemirror_mode": {
    "name": "ipython",
    "version": 3
   },
   "file_extension": ".py",
   "mimetype": "text/x-python",
   "name": "python",
   "nbconvert_exporter": "python",
   "pygments_lexer": "ipython3",
   "version": "3.10.11"
  },
  "toc-autonumbering": true,
  "toc-showcode": true,
  "widgets": {
   "application/vnd.jupyter.widget-state+json": {
    "state": {
     "03d3901c79274bfc8ca663bfe168c850": {
      "model_module": "@jupyter-widgets/controls",
      "model_module_version": "2.0.0",
      "model_name": "HTMLModel",
      "state": {
       "layout": "IPY_MODEL_9545b0f1e4a94efa855c09e6bf7e82ee",
       "style": "IPY_MODEL_55b72414e3294b6795f1990075f801a4",
       "value": "Map (num_proc=8): 100%"
      }
     },
     "0cb92e00202a4c7e8d0670ff1b4bc916": {
      "model_module": "@jupyter-widgets/controls",
      "model_module_version": "2.0.0",
      "model_name": "HTMLModel",
      "state": {
       "layout": "IPY_MODEL_e919bf1a0efb44b79f421111309c537d",
       "style": "IPY_MODEL_208650c2820d44998ed53c80a8e0d61a",
       "value": " 7/7 [00:08&lt;00:00,  1.11s/it]"
      }
     },
     "0f53a22d52a7436598c0149dd81504c6": {
      "model_module": "@jupyter-widgets/base",
      "model_module_version": "2.0.0",
      "model_name": "LayoutModel",
      "state": {
       "visibility": "hidden"
      }
     },
     "14e0573516944bcaa315e87dfb5aa08c": {
      "model_module": "@jupyter-widgets/base",
      "model_module_version": "2.0.0",
      "model_name": "LayoutModel",
      "state": {}
     },
     "208650c2820d44998ed53c80a8e0d61a": {
      "model_module": "@jupyter-widgets/controls",
      "model_module_version": "2.0.0",
      "model_name": "HTMLStyleModel",
      "state": {
       "description_width": "",
       "font_size": null,
       "text_color": null
      }
     },
     "20f21d15ff1149939b31b722424fb338": {
      "model_module": "@jupyter-widgets/base",
      "model_module_version": "2.0.0",
      "model_name": "LayoutModel",
      "state": {}
     },
     "2be674444f5e4690a413abc5a2d14260": {
      "model_module": "@jupyter-widgets/base",
      "model_module_version": "2.0.0",
      "model_name": "LayoutModel",
      "state": {}
     },
     "2e6340f36df1434ab1424bee1d3d9148": {
      "model_module": "@jupyter-widgets/base",
      "model_module_version": "2.0.0",
      "model_name": "LayoutModel",
      "state": {
       "visibility": "hidden"
      }
     },
     "41e23e1e49824cbca6413aa2e9e258c0": {
      "model_module": "@jupyter-widgets/base",
      "model_module_version": "2.0.0",
      "model_name": "LayoutModel",
      "state": {}
     },
     "43caaf74437a4846a4925174b09373aa": {
      "model_module": "@jupyter-widgets/controls",
      "model_module_version": "2.0.0",
      "model_name": "ProgressStyleModel",
      "state": {
       "description_width": ""
      }
     },
     "49ac105c64b04f9b8dd82a0230ff2f91": {
      "model_module": "@jupyter-widgets/controls",
      "model_module_version": "2.0.0",
      "model_name": "FloatProgressModel",
      "state": {
       "layout": "IPY_MODEL_41e23e1e49824cbca6413aa2e9e258c0",
       "max": 1064,
       "style": "IPY_MODEL_a1f23a7e966047b985be36bec93f70e9",
       "value": 1064
      }
     },
     "52a9c81864be491095fd85abd4062906": {
      "model_module": "@jupyter-widgets/base",
      "model_module_version": "2.0.0",
      "model_name": "LayoutModel",
      "state": {
       "visibility": "hidden"
      }
     },
     "55b72414e3294b6795f1990075f801a4": {
      "model_module": "@jupyter-widgets/controls",
      "model_module_version": "2.0.0",
      "model_name": "HTMLStyleModel",
      "state": {
       "description_width": "",
       "font_size": null,
       "text_color": null
      }
     },
     "574c2926cc25450da615cc916f5d7c2a": {
      "model_module": "@jupyter-widgets/controls",
      "model_module_version": "2.0.0",
      "model_name": "HTMLModel",
      "state": {
       "layout": "IPY_MODEL_6e351172f44e4675a6344051577c2e93",
       "style": "IPY_MODEL_7dfe73dad5c34b9eb13d7c9789a0009e",
       "value": " 133/1064 [00:00&lt;00:02, 417.92 examples/s]"
      }
     },
     "5a3c839dc4f94fe6b7e0a1efd8864aa9": {
      "model_module": "@jupyter-widgets/base",
      "model_module_version": "2.0.0",
      "model_name": "LayoutModel",
      "state": {}
     },
     "6a75128ecb1745399d900283640b9da3": {
      "model_module": "@jupyter-widgets/controls",
      "model_module_version": "2.0.0",
      "model_name": "HTMLModel",
      "state": {
       "layout": "IPY_MODEL_ee0000aa4ba84c979c4babca94cef9d9",
       "style": "IPY_MODEL_ad4d5cc123074f75bcffafcb707cda7e",
       "value": "Map (num_proc=8):  12%"
      }
     },
     "6e351172f44e4675a6344051577c2e93": {
      "model_module": "@jupyter-widgets/base",
      "model_module_version": "2.0.0",
      "model_name": "LayoutModel",
      "state": {}
     },
     "6e5b91dd50cd461bb694eee80e5ad3b5": {
      "model_module": "@jupyter-widgets/base",
      "model_module_version": "2.0.0",
      "model_name": "LayoutModel",
      "state": {}
     },
     "7a343ab5b38a4fcdbdc6e5e6c7e5ea8a": {
      "model_module": "@jupyter-widgets/controls",
      "model_module_version": "2.0.0",
      "model_name": "FloatProgressModel",
      "state": {
       "layout": "IPY_MODEL_b36ad90943804e0a934b8cb6a7789cb1",
       "max": 31051,
       "style": "IPY_MODEL_43caaf74437a4846a4925174b09373aa",
       "value": 31051
      }
     },
     "7b06e888b44c4198827287fec1ef9a40": {
      "model_module": "@jupyter-widgets/controls",
      "model_module_version": "2.0.0",
      "model_name": "FloatProgressModel",
      "state": {
       "layout": "IPY_MODEL_90ac204bed9545a98e388fcfce8f0677",
       "max": 1064,
       "style": "IPY_MODEL_ff7cd0666dbd44e9aff2b57c4f2194d4",
       "value": 1064
      }
     },
     "7b252704b4d946f4bfa8e1ce1bda2723": {
      "model_module": "@jupyter-widgets/controls",
      "model_module_version": "2.0.0",
      "model_name": "HTMLModel",
      "state": {
       "layout": "IPY_MODEL_976c9619dfc945ab9d1a886300de8c14",
       "style": "IPY_MODEL_7f41509661554494aba32d164d7c6daa",
       "value": " 1064/1064 [00:00&lt;00:00, 4102.66 examples/s]"
      }
     },
     "7dfe73dad5c34b9eb13d7c9789a0009e": {
      "model_module": "@jupyter-widgets/controls",
      "model_module_version": "2.0.0",
      "model_name": "HTMLStyleModel",
      "state": {
       "description_width": "",
       "font_size": null,
       "text_color": null
      }
     },
     "7f41509661554494aba32d164d7c6daa": {
      "model_module": "@jupyter-widgets/controls",
      "model_module_version": "2.0.0",
      "model_name": "HTMLStyleModel",
      "state": {
       "description_width": "",
       "font_size": null,
       "text_color": null
      }
     },
     "877cbfc7bc7d41e188740bf2ca311acf": {
      "model_module": "@jupyter-widgets/controls",
      "model_module_version": "2.0.0",
      "model_name": "HTMLModel",
      "state": {
       "layout": "IPY_MODEL_ab0ebd30708f4f75901ada752c750232",
       "style": "IPY_MODEL_bcf44738a06842cb8ddc42229b5d6319",
       "value": "Loading checkpoint shards: 100%"
      }
     },
     "90156640326241a5bd74c721b268b1c9": {
      "model_module": "@jupyter-widgets/base",
      "model_module_version": "2.0.0",
      "model_name": "LayoutModel",
      "state": {
       "visibility": "hidden"
      }
     },
     "90ac204bed9545a98e388fcfce8f0677": {
      "model_module": "@jupyter-widgets/base",
      "model_module_version": "2.0.0",
      "model_name": "LayoutModel",
      "state": {}
     },
     "9545b0f1e4a94efa855c09e6bf7e82ee": {
      "model_module": "@jupyter-widgets/base",
      "model_module_version": "2.0.0",
      "model_name": "LayoutModel",
      "state": {}
     },
     "96f7d8c7b5414ceb8b200856f68cb3f3": {
      "model_module": "@jupyter-widgets/controls",
      "model_module_version": "2.0.0",
      "model_name": "HTMLStyleModel",
      "state": {
       "description_width": "",
       "font_size": null,
       "text_color": null
      }
     },
     "976c9619dfc945ab9d1a886300de8c14": {
      "model_module": "@jupyter-widgets/base",
      "model_module_version": "2.0.0",
      "model_name": "LayoutModel",
      "state": {}
     },
     "98553a50d64144549300cfd3e8c4061d": {
      "model_module": "@jupyter-widgets/base",
      "model_module_version": "2.0.0",
      "model_name": "LayoutModel",
      "state": {}
     },
     "a1f23a7e966047b985be36bec93f70e9": {
      "model_module": "@jupyter-widgets/controls",
      "model_module_version": "2.0.0",
      "model_name": "ProgressStyleModel",
      "state": {
       "description_width": ""
      }
     },
     "a5b8166aee904f6b9a0dffbf958e977f": {
      "model_module": "@jupyter-widgets/controls",
      "model_module_version": "2.0.0",
      "model_name": "ProgressStyleModel",
      "state": {
       "description_width": ""
      }
     },
     "ab0ebd30708f4f75901ada752c750232": {
      "model_module": "@jupyter-widgets/base",
      "model_module_version": "2.0.0",
      "model_name": "LayoutModel",
      "state": {}
     },
     "ad4d5cc123074f75bcffafcb707cda7e": {
      "model_module": "@jupyter-widgets/controls",
      "model_module_version": "2.0.0",
      "model_name": "HTMLStyleModel",
      "state": {
       "description_width": "",
       "font_size": null,
       "text_color": null
      }
     },
     "ae390c8c3e2147648b2c74e1b2522af8": {
      "model_module": "@jupyter-widgets/controls",
      "model_module_version": "2.0.0",
      "model_name": "HBoxModel",
      "state": {
       "children": [
        "IPY_MODEL_877cbfc7bc7d41e188740bf2ca311acf",
        "IPY_MODEL_e2d28ea91540490ca3977b2784a9b4de",
        "IPY_MODEL_0cb92e00202a4c7e8d0670ff1b4bc916"
       ],
       "layout": "IPY_MODEL_14e0573516944bcaa315e87dfb5aa08c"
      }
     },
     "b36ad90943804e0a934b8cb6a7789cb1": {
      "model_module": "@jupyter-widgets/base",
      "model_module_version": "2.0.0",
      "model_name": "LayoutModel",
      "state": {}
     },
     "b6b5dcaaed8e45819a596c1ef8c19971": {
      "model_module": "@jupyter-widgets/base",
      "model_module_version": "2.0.0",
      "model_name": "LayoutModel",
      "state": {}
     },
     "b96392b925fd4b7ab4a0ad76babb3ab0": {
      "model_module": "@jupyter-widgets/controls",
      "model_module_version": "2.0.0",
      "model_name": "HTMLStyleModel",
      "state": {
       "description_width": "",
       "font_size": null,
       "text_color": null
      }
     },
     "b97ded9ddbef41769c7f72c30b34f3ee": {
      "model_module": "@jupyter-widgets/controls",
      "model_module_version": "2.0.0",
      "model_name": "HTMLStyleModel",
      "state": {
       "description_width": "",
       "font_size": null,
       "text_color": null
      }
     },
     "bc499ad676b34708a9fc280a67cad5c5": {
      "model_module": "@jupyter-widgets/controls",
      "model_module_version": "2.0.0",
      "model_name": "HTMLModel",
      "state": {
       "layout": "IPY_MODEL_6e5b91dd50cd461bb694eee80e5ad3b5",
       "style": "IPY_MODEL_fe8aa8c14b8d47a9ba9a2237780d0f7c",
       "value": "Map (num_proc=8):  91%"
      }
     },
     "bcf44738a06842cb8ddc42229b5d6319": {
      "model_module": "@jupyter-widgets/controls",
      "model_module_version": "2.0.0",
      "model_name": "HTMLStyleModel",
      "state": {
       "description_width": "",
       "font_size": null,
       "text_color": null
      }
     },
     "c6cc900977fb4d88bba78f3ea9d52578": {
      "model_module": "@jupyter-widgets/controls",
      "model_module_version": "2.0.0",
      "model_name": "HTMLModel",
      "state": {
       "layout": "IPY_MODEL_2be674444f5e4690a413abc5a2d14260",
       "style": "IPY_MODEL_b96392b925fd4b7ab4a0ad76babb3ab0",
       "value": " 28408/31051 [00:01&lt;00:00, 25435.51 examples/s]"
      }
     },
     "dacf9a9eaabe4857b6288a5af4788ec8": {
      "model_module": "@jupyter-widgets/controls",
      "model_module_version": "2.0.0",
      "model_name": "FloatProgressModel",
      "state": {
       "layout": "IPY_MODEL_5a3c839dc4f94fe6b7e0a1efd8864aa9",
       "max": 31051,
       "style": "IPY_MODEL_f54fc34ced81470da66acd246e6a73ee",
       "value": 31051
      }
     },
     "ddbe6c9802504b88b4c1ce249c8c4d7a": {
      "model_module": "@jupyter-widgets/controls",
      "model_module_version": "2.0.0",
      "model_name": "HTMLModel",
      "state": {
       "layout": "IPY_MODEL_20f21d15ff1149939b31b722424fb338",
       "style": "IPY_MODEL_96f7d8c7b5414ceb8b200856f68cb3f3",
       "value": "Map (num_proc=8):  91%"
      }
     },
     "e2d28ea91540490ca3977b2784a9b4de": {
      "model_module": "@jupyter-widgets/controls",
      "model_module_version": "2.0.0",
      "model_name": "FloatProgressModel",
      "state": {
       "bar_style": "success",
       "layout": "IPY_MODEL_98553a50d64144549300cfd3e8c4061d",
       "max": 7,
       "style": "IPY_MODEL_a5b8166aee904f6b9a0dffbf958e977f",
       "value": 7
      }
     },
     "e919bf1a0efb44b79f421111309c537d": {
      "model_module": "@jupyter-widgets/base",
      "model_module_version": "2.0.0",
      "model_name": "LayoutModel",
      "state": {}
     },
     "ee0000aa4ba84c979c4babca94cef9d9": {
      "model_module": "@jupyter-widgets/base",
      "model_module_version": "2.0.0",
      "model_name": "LayoutModel",
      "state": {}
     },
     "f1f52a46fac1428b8fd214e26acfb531": {
      "model_module": "@jupyter-widgets/controls",
      "model_module_version": "2.0.0",
      "model_name": "HTMLModel",
      "state": {
       "layout": "IPY_MODEL_b6b5dcaaed8e45819a596c1ef8c19971",
       "style": "IPY_MODEL_b97ded9ddbef41769c7f72c30b34f3ee",
       "value": " 28408/31051 [00:01&lt;00:00, 26650.68 examples/s]"
      }
     },
     "f54fc34ced81470da66acd246e6a73ee": {
      "model_module": "@jupyter-widgets/controls",
      "model_module_version": "2.0.0",
      "model_name": "ProgressStyleModel",
      "state": {
       "description_width": ""
      }
     },
     "fe8aa8c14b8d47a9ba9a2237780d0f7c": {
      "model_module": "@jupyter-widgets/controls",
      "model_module_version": "2.0.0",
      "model_name": "HTMLStyleModel",
      "state": {
       "description_width": "",
       "font_size": null,
       "text_color": null
      }
     },
     "ff7cd0666dbd44e9aff2b57c4f2194d4": {
      "model_module": "@jupyter-widgets/controls",
      "model_module_version": "2.0.0",
      "model_name": "ProgressStyleModel",
      "state": {
       "description_width": ""
      }
     }
    },
    "version_major": 2,
    "version_minor": 0
   }
  }
 },
 "nbformat": 4,
 "nbformat_minor": 4
}
