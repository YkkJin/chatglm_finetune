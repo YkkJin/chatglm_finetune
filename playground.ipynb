{
 "cells": [
  {
   "cell_type": "code",
   "execution_count": 1,
   "metadata": {
    "tags": []
   },
   "outputs": [],
   "source": [
    "from transformers import AutoConfig,AutoTokenizer,AutoModelForSequenceClassification,DefaultDataCollator\n",
    "import datasets\n",
    "import torch\n",
    "from transformers.utils import PaddingStrategy\n",
    "from torch.utils.data import DataLoader,WeightedRandomSampler\n",
    "from argparse import Namespace\n",
    "from sklearn.utils.class_weight import compute_class_weight\n",
    "from peft import PeftModel,AdaLoraConfig,TaskType,get_peft_model\n",
    "import pandas as pd\n",
    "from collections import defaultdict\n",
    "from datetime import datetime\n",
    "from typing import Any, Callable, Dict, List, NewType, Optional, Tuple, Union\n",
    "from finglm.utils import load_data,load_data_all\n",
    "import warnings\n",
    "warnings.filterwarnings(\"ignore\")\n",
    "today =datetime.today().strftime(\"%Y%m%d_%H%M%S\")\n",
    "cfg = Namespace()\n",
    "cfg.prompt_column = \"prompt\"\n",
    "cfg.label_column = \"response\"\n",
    "cfg.prefix = \"\"\n",
    "cfg.source_length = 70\n",
    "cfg.target_length = 70\n",
    "cfg.device = \"cuda:0\"\n",
    "cfg.LABEL_MAPPING = {\n",
    "        \"强烈不推荐\": [0],\n",
    "        \"不推荐\":[1],\n",
    "        \"一般\":[2],\n",
    "        \"推荐\":[3],\n",
    "        \"强烈推荐\":[4],\n",
    "    }\n",
    "\n",
    "\n",
    "\n",
    "\n",
    "cfg.gradient_accumulation_steps = 500\n",
    "cfg.epochs = 10\n",
    "cfg.batch_size = 4\n",
    "cfg.lr = 1e-4\n",
    "cfg.scheduler_gamma = 0.5\n",
    "\n",
    "\n",
    "cfg.target_modules = [\"query_key_value\"]\n",
    "\n",
    "cfg.year = 2022\n",
    "cfg.read_ckpt_path = f\"/root/autodl-tmp/glm-finetune/finglm/five_year_data/20231107_104611\"\n",
    "cfg.save_ckpt_path = f\"/root/autodl-tmp/glm-finetune/finglm/five_year_data/{today}\"\n",
    "\n"
   ]
  },
  {
   "cell_type": "code",
   "execution_count": 2,
   "metadata": {
    "tags": []
   },
   "outputs": [],
   "source": [
    "model_path = \"/root/autodl-tmp/models/chatglm3-6b\"\n",
    "num_labels = 5\n",
    "problem_type = \"single_label_classification\"\n",
    "classifier_dropout = 0.2\n",
    "tokenizer = AutoTokenizer.from_pretrained(model_path,trust_remote_code = True)\n",
    "config = AutoConfig.from_pretrained(model_path,trust_remote_code = True)\n",
    "config.num_labels = num_labels\n",
    "config.problem_type = problem_type\n",
    "config.classifier_dropout = classifier_dropout\n",
    "config.output_hidden_states = True\n",
    "config.add_bias_linear = True\n",
    "\n",
    "\n",
    "\n"
   ]
  },
  {
   "cell_type": "code",
   "execution_count": 3,
   "metadata": {
    "tags": []
   },
   "outputs": [],
   "source": [
    "## load_data\n",
    "df = load_data_all([i for i in range(2017,cfg.year+1)])\n",
    "df = df[['month','year','prompt','response']]\n",
    "df.dropna(inplace = True)\n",
    "\n",
    "train_df = df.query(\"year == 2022 and month < 12\")\n",
    "val_df = df.query(\"year == 2022 and month == 12\")\n",
    "\n",
    "train_ds = datasets.Dataset.from_pandas(train_df)\n",
    "val_ds = datasets.Dataset.from_pandas(val_df)\n",
    "\n",
    "cfg.scheduler_steps = len(train_ds)//cfg.gradient_accumulation_steps"
   ]
  },
  {
   "cell_type": "code",
   "execution_count": 4,
   "metadata": {
    "tags": []
   },
   "outputs": [],
   "source": [
    "def multi_label_preprocess(examples,tokenizer,cfg)->Dict[str,Any]:\n",
    "    model_inputs = {\n",
    "        \"input_ids\": [],\n",
    "        \"attention_mask\": [],\n",
    "        \"position_ids\": [],\n",
    "        \"labels\": []\n",
    "    }\n",
    "    max_length = cfg.source_length + cfg.target_length\n",
    "    prefix = cfg.prefix\n",
    "    for idx in range(len(examples[cfg.prompt_column])):\n",
    "        if examples[cfg.prompt_column][idx] and examples[cfg.label_column][idx]:\n",
    "            prompt,label = examples[cfg.prompt_column][idx],examples[cfg.label_column][idx]\n",
    "            prompt = prefix+prompt\n",
    "            input_ids = tokenizer.build_single_message(\"observation\",\"\",prompt)\n",
    "            #input_ids = tokenizer.build_inputs_with_special_tokens(input_ids)\n",
    "            input_ids = input_ids + [tokenizer.eos_token_id]\n",
    "            encoded_inputs = tokenizer.encode_plus(input_ids,is_split_into_words = True)\n",
    "            padded_encoded_inputs = tokenizer._pad(encoded_inputs,max_length=max_length,padding_strategy = PaddingStrategy.MAX_LENGTH, return_attention_mask = True)\n",
    "            model_inputs[\"input_ids\"].append(padded_encoded_inputs[\"input_ids\"])\n",
    "            model_inputs[\"attention_mask\"].append(padded_encoded_inputs[\"attention_mask\"])\n",
    "            model_inputs[\"position_ids\"].append(padded_encoded_inputs[\"position_ids\"])\n",
    "            model_inputs[\"labels\"].append(cfg.LABEL_MAPPING[label])\n",
    "    return model_inputs\n",
    "\n",
    "\n",
    "\n",
    "def weighted_sampler(df: pd.DataFrame,cfg) -> Tuple[Dict[int,float],WeightedRandomSampler]:\n",
    "    classes = df[cfg.label_column].unique()\n",
    "    class_weight = compute_class_weight(\"balanced\",classes=classes, y = df[cfg.label_column].values)\n",
    "    label_weight = defaultdict()\n",
    "    for class_label,weight in zip(classes,class_weight):\n",
    "        label_weight[cfg.LABEL_MAPPING[class_label][0]] = weight\n",
    "    sampler = WeightedRandomSampler(weights=torch.tensor([label_weight[cfg.LABEL_MAPPING[class_label][0]] for class_label in df[cfg.label_column].values]).to(cfg.device),num_samples = len(df[cfg.label_column].values),replacement = True)\n",
    "    return label_weight,sampler\n",
    "        \n",
    "    \n",
    "\n"
   ]
  },
  {
   "cell_type": "code",
   "execution_count": 5,
   "metadata": {
    "tags": []
   },
   "outputs": [
    {
     "data": {
      "application/vnd.jupyter.widget-view+json": {
       "model_id": "",
       "version_major": 2,
       "version_minor": 0
      },
      "text/plain": [
       "Map (num_proc=8):   0%|          | 0/31051 [00:00<?, ? examples/s]"
      ]
     },
     "metadata": {},
     "output_type": "display_data"
    },
    {
     "data": {
      "application/vnd.jupyter.widget-view+json": {
       "model_id": "",
       "version_major": 2,
       "version_minor": 0
      },
      "text/plain": [
       "Map (num_proc=8):   0%|          | 0/1064 [00:00<?, ? examples/s]"
      ]
     },
     "metadata": {},
     "output_type": "display_data"
    }
   ],
   "source": [
    "train_model_inputs = train_ds.map(multi_label_preprocess,batched = True,num_proc=8,remove_columns = train_ds.column_names,fn_kwargs={\"tokenizer\":tokenizer,\"cfg\":cfg})\n",
    "val_model_inputs = val_ds.map(multi_label_preprocess,batched = True,num_proc=8,remove_columns = val_ds.column_names,fn_kwargs={\"tokenizer\":tokenizer,\"cfg\":cfg})\n",
    "collate_fn =  DefaultDataCollator(return_tensors = 'pt')\n",
    "label_weight,sampler = weighted_sampler(train_df,cfg)\n",
    "train_dl = DataLoader(train_model_inputs,batch_size = cfg.batch_size,collate_fn = collate_fn,sampler = sampler)\n",
    "val_dl = DataLoader(val_model_inputs,batch_size=cfg.batch_size,collate_fn=collate_fn,shuffle=False)\n",
    "\n",
    "config.label_weight = label_weight"
   ]
  },
  {
   "cell_type": "code",
   "execution_count": 6,
   "metadata": {
    "tags": []
   },
   "outputs": [
    {
     "data": {
      "application/vnd.jupyter.widget-view+json": {
       "model_id": "656a5ed3078944c98d2792f15f75b4ef",
       "version_major": 2,
       "version_minor": 0
      },
      "text/plain": [
       "Loading checkpoint shards:   0%|          | 0/7 [00:00<?, ?it/s]"
      ]
     },
     "metadata": {},
     "output_type": "display_data"
    },
    {
     "name": "stderr",
     "output_type": "stream",
     "text": [
      "Some weights of ChatGLMForSequenceClassification were not initialized from the model checkpoint at /root/autodl-tmp/models/chatglm3-6b and are newly initialized: ['transformer.encoder.layers.20.self_attention.dense.bias', 'transformer.encoder.layers.24.self_attention.dense.bias', 'transformer.encoder.layers.22.mlp.dense_h_to_4h.bias', 'transformer.encoder.layers.7.mlp.dense_h_to_4h.bias', 'transformer.encoder.layers.27.mlp.dense_h_to_4h.bias', 'transformer.encoder.layers.21.self_attention.dense.bias', 'classifier_head.weight', 'transformer.encoder.layers.27.mlp.dense_4h_to_h.bias', 'transformer.encoder.layers.25.mlp.dense_4h_to_h.bias', 'transformer.encoder.layers.5.mlp.dense_4h_to_h.bias', 'transformer.encoder.layers.14.self_attention.dense.bias', 'transformer.encoder.layers.20.mlp.dense_4h_to_h.bias', 'transformer.encoder.layers.8.mlp.dense_h_to_4h.bias', 'transformer.encoder.layers.27.self_attention.dense.bias', 'transformer.encoder.layers.24.mlp.dense_4h_to_h.bias', 'transformer.encoder.layers.3.self_attention.dense.bias', 'transformer.encoder.layers.9.mlp.dense_4h_to_h.bias', 'classifier_head.bias', 'transformer.encoder.layers.18.mlp.dense_4h_to_h.bias', 'transformer.encoder.layers.5.mlp.dense_h_to_4h.bias', 'transformer.encoder.layers.0.self_attention.dense.bias', 'transformer.encoder.layers.1.mlp.dense_4h_to_h.bias', 'transformer.encoder.layers.6.mlp.dense_h_to_4h.bias', 'transformer.encoder.layers.1.mlp.dense_h_to_4h.bias', 'transformer.encoder.layers.15.self_attention.dense.bias', 'transformer.encoder.layers.10.mlp.dense_h_to_4h.bias', 'transformer.encoder.layers.13.mlp.dense_h_to_4h.bias', 'transformer.encoder.layers.2.mlp.dense_4h_to_h.bias', 'transformer.encoder.layers.17.self_attention.dense.bias', 'transformer.encoder.layers.26.mlp.dense_4h_to_h.bias', 'transformer.encoder.layers.2.mlp.dense_h_to_4h.bias', 'transformer.encoder.layers.17.mlp.dense_4h_to_h.bias', 'transformer.encoder.layers.14.mlp.dense_4h_to_h.bias', 'transformer.encoder.layers.22.mlp.dense_4h_to_h.bias', 'transformer.encoder.layers.19.self_attention.dense.bias', 'transformer.encoder.layers.5.self_attention.dense.bias', 'transformer.encoder.layers.4.self_attention.dense.bias', 'transformer.encoder.layers.12.mlp.dense_h_to_4h.bias', 'transformer.encoder.layers.8.mlp.dense_4h_to_h.bias', 'transformer.encoder.layers.6.self_attention.dense.bias', 'transformer.encoder.layers.18.mlp.dense_h_to_4h.bias', 'transformer.encoder.layers.12.self_attention.dense.bias', 'transformer.encoder.layers.16.self_attention.dense.bias', 'transformer.encoder.layers.0.mlp.dense_4h_to_h.bias', 'transformer.encoder.layers.4.mlp.dense_4h_to_h.bias', 'transformer.encoder.layers.9.self_attention.dense.bias', 'transformer.encoder.layers.21.mlp.dense_4h_to_h.bias', 'transformer.encoder.layers.25.mlp.dense_h_to_4h.bias', 'transformer.encoder.layers.23.mlp.dense_h_to_4h.bias', 'transformer.encoder.layers.3.mlp.dense_4h_to_h.bias', 'transformer.encoder.layers.18.self_attention.dense.bias', 'transformer.encoder.layers.7.mlp.dense_4h_to_h.bias', 'transformer.encoder.layers.0.mlp.dense_h_to_4h.bias', 'transformer.encoder.layers.14.mlp.dense_h_to_4h.bias', 'transformer.encoder.layers.26.mlp.dense_h_to_4h.bias', 'transformer.encoder.layers.7.self_attention.dense.bias', 'transformer.encoder.layers.19.mlp.dense_h_to_4h.bias', 'transformer.encoder.layers.16.mlp.dense_h_to_4h.bias', 'transformer.encoder.layers.23.mlp.dense_4h_to_h.bias', 'transformer.encoder.layers.21.mlp.dense_h_to_4h.bias', 'transformer.encoder.layers.8.self_attention.dense.bias', 'transformer.encoder.layers.3.mlp.dense_h_to_4h.bias', 'transformer.encoder.layers.2.self_attention.dense.bias', 'transformer.encoder.layers.16.mlp.dense_4h_to_h.bias', 'transformer.encoder.layers.24.mlp.dense_h_to_4h.bias', 'transformer.encoder.layers.15.mlp.dense_4h_to_h.bias', 'transformer.encoder.layers.15.mlp.dense_h_to_4h.bias', 'transformer.encoder.layers.10.mlp.dense_4h_to_h.bias', 'transformer.encoder.layers.19.mlp.dense_4h_to_h.bias', 'transformer.encoder.layers.13.self_attention.dense.bias', 'transformer.encoder.layers.11.self_attention.dense.bias', 'transformer.encoder.layers.26.self_attention.dense.bias', 'transformer.encoder.layers.11.mlp.dense_h_to_4h.bias', 'transformer.encoder.layers.17.mlp.dense_h_to_4h.bias', 'transformer.encoder.layers.4.mlp.dense_h_to_4h.bias', 'transformer.encoder.layers.23.self_attention.dense.bias', 'transformer.encoder.layers.6.mlp.dense_4h_to_h.bias', 'transformer.encoder.layers.12.mlp.dense_4h_to_h.bias', 'transformer.encoder.layers.22.self_attention.dense.bias', 'transformer.encoder.layers.1.self_attention.dense.bias', 'transformer.encoder.layers.11.mlp.dense_4h_to_h.bias', 'transformer.encoder.layers.20.mlp.dense_h_to_4h.bias', 'transformer.encoder.layers.9.mlp.dense_h_to_4h.bias', 'transformer.encoder.layers.25.self_attention.dense.bias', 'transformer.encoder.layers.13.mlp.dense_4h_to_h.bias', 'transformer.encoder.layers.10.self_attention.dense.bias']\n",
      "You should probably TRAIN this model on a down-stream task to be able to use it for predictions and inference.\n"
     ]
    },
    {
     "name": "stdout",
     "output_type": "stream",
     "text": [
      "Modle Config:\n",
      "ChatGLMConfig {\n",
      "  \"_name_or_path\": \"/root/autodl-tmp/models/chatglm3-6b\",\n",
      "  \"add_bias_linear\": true,\n",
      "  \"add_qkv_bias\": true,\n",
      "  \"apply_query_key_layer_scaling\": true,\n",
      "  \"apply_residual_connection_post_layernorm\": false,\n",
      "  \"architectures\": [\n",
      "    \"ChatGLMModel\"\n",
      "  ],\n",
      "  \"attention_dropout\": 0.0,\n",
      "  \"attention_softmax_in_fp32\": true,\n",
      "  \"auto_map\": {\n",
      "    \"AutoConfig\": \"configuration_chatglm.ChatGLMConfig\",\n",
      "    \"AutoModel\": \"modeling_chatglm.ChatGLMForConditionalGeneration\",\n",
      "    \"AutoModelForCausalLM\": \"modeling_chatglm.ChatGLMForConditionalGeneration\",\n",
      "    \"AutoModelForSeq2SeqLM\": \"modeling_chatglm.ChatGLMForConditionalGeneration\",\n",
      "    \"AutoModelForSequenceClassification\": \"modeling_chatglm.ChatGLMForSequenceClassification\"\n",
      "  },\n",
      "  \"bias_dropout_fusion\": true,\n",
      "  \"classifier_dropout\": 0.2,\n",
      "  \"eos_token_id\": 2,\n",
      "  \"ffn_hidden_size\": 13696,\n",
      "  \"fp32_residual_connection\": false,\n",
      "  \"hidden_dropout\": 0.0,\n",
      "  \"hidden_size\": 4096,\n",
      "  \"id2label\": {\n",
      "    \"0\": \"LABEL_0\",\n",
      "    \"1\": \"LABEL_1\",\n",
      "    \"2\": \"LABEL_2\",\n",
      "    \"3\": \"LABEL_3\",\n",
      "    \"4\": \"LABEL_4\"\n",
      "  },\n",
      "  \"kv_channels\": 128,\n",
      "  \"label2id\": {\n",
      "    \"LABEL_0\": 0,\n",
      "    \"LABEL_1\": 1,\n",
      "    \"LABEL_2\": 2,\n",
      "    \"LABEL_3\": 3,\n",
      "    \"LABEL_4\": 4\n",
      "  },\n",
      "  \"label_weight\": {\n",
      "    \"0\": 1.0254623513870542,\n",
      "    \"1\": 1.0851301764808667,\n",
      "    \"2\": 0.7137340535570624,\n",
      "    \"3\": 1.38373440285205,\n",
      "    \"4\": 1.0209107348347854\n",
      "  },\n",
      "  \"layernorm_epsilon\": 1e-05,\n",
      "  \"model_type\": \"chatglm\",\n",
      "  \"multi_query_attention\": true,\n",
      "  \"multi_query_group_num\": 2,\n",
      "  \"num_attention_heads\": 32,\n",
      "  \"num_layers\": 28,\n",
      "  \"original_rope\": true,\n",
      "  \"output_hidden_states\": true,\n",
      "  \"pad_token_id\": 0,\n",
      "  \"padded_vocab_size\": 65024,\n",
      "  \"post_layer_norm\": true,\n",
      "  \"pre_seq_len\": null,\n",
      "  \"prefix_projection\": false,\n",
      "  \"problem_type\": \"single_label_classification\",\n",
      "  \"quantization_bit\": 0,\n",
      "  \"rmsnorm\": true,\n",
      "  \"seq_length\": 8192,\n",
      "  \"tie_word_embeddings\": false,\n",
      "  \"torch_dtype\": \"float16\",\n",
      "  \"transformers_version\": \"4.30.2\",\n",
      "  \"use_cache\": true,\n",
      "  \"vocab_size\": 65024\n",
      "}\n",
      "\n",
      "====================================================================================================\n",
      "LoRA Module:\n",
      "trainable params: 2924880 || all params: 6247525745 || trainable%: 0.04681661379852385\n",
      "====================================================================================================\n",
      "With Classifier Head:\n",
      "trainable params: 2945365 || all params: 6247525745 || trainable%: 0.047144503603802276\n"
     ]
    }
   ],
   "source": [
    "##PEFT settings\n",
    "adalora = AdaLoraConfig(\n",
    "    task_type = TaskType.SEQ_CLS,\n",
    "    target_modules=cfg.target_modules,\n",
    "    init_r=12,\n",
    "    target_r=0,\n",
    "    beta1=0.85,\n",
    "    beta2=0.85,\n",
    "    tinit=200,\n",
    "    tfinal=1000,\n",
    "    deltaT=10,\n",
    "    lora_alpha=32,\n",
    "    lora_dropout=0.2,\n",
    "    inference_mode=False\n",
    ")\n",
    "model = AutoModelForSequenceClassification.from_pretrained(model_path,config = config,trust_remote_code = True,torch_dtype=torch.float16).cuda()\n",
    "model = PeftModel.from_pretrained(model,cfg.read_ckpt_path,is_trainable = True).cuda() # 添加is_trainable=True使LoRA参数参与训练\n",
    "#model = model.merge_and_unload() #与之前训练的LoRA权重融合\n",
    "#model = get_peft_model(model,adalora) # 添加新的LoRA块\n",
    "\n",
    "#model.classifier_head.load_state_dict(torch.load(f'{cfg.read_ckpt_path}/classifier_head.bin')) # 加载之前训练的classifier_head的参数\n",
    "\n",
    "print(f\"Modle Config:\")\n",
    "print(model.config)\n",
    "print(\"=\"*100)\n",
    "print(\"LoRA Module:\")\n",
    "model.print_trainable_parameters()\n",
    "print(\"=\"*100)\n",
    "\n",
    "def enable_trainable_module(model,names: List[str])->None:\n",
    "    for module_name,params in model.named_parameters():\n",
    "        for name in names:\n",
    "            if name in names.split('.'):\n",
    "                params.requires_grad = True\n",
    "                params.data = params.data.float()\n",
    "\n",
    "for parameter in model.classifier_head.parameters(): \n",
    "    parameter.requires_grad = True # classifier_head的weight和bias参数参与梯度计算\n",
    "    parameter.data = parameter.data.float() # 转换为 torch.float32，否则梯度计算会报ValueError: Attempting to unscale FP16 gradients.\n",
    "print(\"With Classifier Head:\")\n",
    "model.print_trainable_parameters()"
   ]
  },
  {
   "cell_type": "code",
   "execution_count": 7,
   "metadata": {
    "tags": []
   },
   "outputs": [],
   "source": [
    "\n",
    "## config.is_add_bias = True后，MLP,dense层的bias会出现nan值，这里重新设置为0，否则loss会变成nan\n",
    "\n",
    "for i in range(28):\n",
    "    self_attention_dense_bias = model.base_model.model.transformer.encoder.layers[i].self_attention.dense.bias.data\n",
    "    \n",
    "    dense_h_to_4h_bias = model.base_model.model.transformer.encoder.layers[i].mlp.dense_h_to_4h.bias.data\n",
    "    dense_4h_to_h_bias = model.base_model.model.transformer.encoder.layers[i].mlp.dense_4h_to_h.bias.data\n",
    "    \n",
    "    model.base_model.model.transformer.encoder.layers[i].self_attention.dense.bias.data = torch.zeros(self_attention_dense_bias.shape,device = self_attention_dense_bias.device,dtype=torch.float16 )\n",
    "    model.base_model.model.transformer.encoder.layers[i].mlp.dense_h_to_4h.bias.data = torch.zeros(dense_h_to_4h_bias.shape,device = dense_h_to_4h_bias.device,dtype=torch.float16)\n",
    "    model.base_model.model.transformer.encoder.layers[i].mlp.dense_4h_to_h.bias.data = torch.zeros(dense_4h_to_h_bias.shape,device = dense_4h_to_h_bias.device,dtype=torch.float16)\n",
    "    \n",
    "    \n",
    "    self_attention_dense_bias.detach()\n",
    "    dense_h_to_4h_bias.detach()\n",
    "    dense_4h_to_h_bias.detach()\n",
    "    \n",
    "    del self_attention_dense_bias\n",
    "    del dense_h_to_4h_bias\n",
    "    del dense_4h_to_h_bias\n",
    "       "
   ]
  },
  {
   "cell_type": "code",
   "execution_count": 8,
   "metadata": {
    "tags": []
   },
   "outputs": [],
   "source": [
    "from torchkeras import KerasModel \n",
    "import torch.nn as nn\n",
    "from accelerate import Accelerator \n",
    "import os\n",
    "\n",
    "class Accuracy(nn.Module):\n",
    "    'Reloaded Accuracy from torchkeras.metrics'\n",
    "    def __init__(self):\n",
    "        super().__init__()\n",
    "        self.correct = nn.Parameter(torch.tensor(0),requires_grad=False)\n",
    "        self.total = nn.Parameter(torch.tensor(0),requires_grad=False)\n",
    "        \n",
    "    def forward(self, preds: torch.Tensor, targets: torch.Tensor):\n",
    "        #assert preds.shape == targets.shape\n",
    "        correct_i = torch.sum(torch.argmax(preds.view(-1,5),dim=1)==targets.view(-1)) \n",
    "        total_i = targets.view(-1).numel()\n",
    "\n",
    "        self.correct += correct_i \n",
    "        self.total += total_i\n",
    "        return correct_i.float()/total_i\n",
    "    \n",
    "    def compute(self):\n",
    "        return self.correct.float()/self.total \n",
    "    \n",
    "    def reset(self):\n",
    "        self.correct-=self.correct\n",
    "        self.total-=self.total\n",
    "    \n",
    "\n",
    "\n",
    "\n",
    "class StepRunner:\n",
    "    def __init__(self, net, loss_fn, accelerator=None, stage = \"train\", metrics_dict = None, \n",
    "                 optimizer = None, lr_scheduler = None,weight_dict = None\n",
    "                 ):\n",
    "        self.net,self.loss_fn,self.metrics_dict,self.stage = net,loss_fn,metrics_dict,stage\n",
    "        self.optimizer,self.lr_scheduler = optimizer,lr_scheduler\n",
    "        self.weight_dict = weight_dict\n",
    "        self.accelerator = accelerator if accelerator is not None else Accelerator() \n",
    "        if self.stage=='train':\n",
    "            self.net.train() \n",
    "        else:\n",
    "            self.net.eval()\n",
    "    \n",
    "    def __call__(self, batch):\n",
    "        labels = batch[\"labels\"]\n",
    "        \n",
    "        #loss\n",
    "        with self.accelerator.autocast():\n",
    "            output = self.net(**batch)\n",
    "            loss = output.loss\n",
    "            preds = output.logits\n",
    "\n",
    "            \n",
    "        #print(labels.dtype)\n",
    "        #print(f\"model logits: {preds}\")\n",
    "        #print(f\"labels: {labels}\")\n",
    "        \n",
    "        #backward()\n",
    "        if self.optimizer is not None and self.stage==\"train\":\n",
    "            self.accelerator.backward(loss)\n",
    "            if self.accelerator.sync_gradients:\n",
    "                self.accelerator.clip_grad_norm_(self.net.parameters(), 1.0)\n",
    "            self.optimizer.step()\n",
    "            if self.lr_scheduler is not None:\n",
    "                self.lr_scheduler.step()\n",
    "            self.optimizer.zero_grad()\n",
    "            \n",
    "        all_loss = self.accelerator.gather(loss).sum()\n",
    "        all_preds = self.accelerator.gather(preds)\n",
    "        all_labels = self.accelerator.gather(labels)\n",
    "        \n",
    "        #losses (or plain metrics that can be averaged)\n",
    "        step_losses = {self.stage+\"_loss\":all_loss.item()}\n",
    "        \n",
    "        #metrics (stateful metrics)\n",
    "        step_metrics = {self.stage+\"_\"+name:metric_fn(all_preds, all_labels).item() \n",
    "                        for name,metric_fn in self.metrics_dict.items()}\n",
    "        \n",
    "        if self.stage==\"train\":\n",
    "            if self.optimizer is not None:\n",
    "                step_metrics['lr'] = self.optimizer.state_dict()['param_groups'][0]['lr']\n",
    "            else:\n",
    "                step_metrics['lr'] = 0.0\n",
    "        return step_losses,step_metrics\n",
    "\n",
    "#保存lora以及分类器相关的可训练参数\n",
    "def save_ckpt(self, ckpt_path='checkpoint', accelerator = None):\n",
    "    unwrap_net = accelerator.unwrap_model(self.net)\n",
    "    unwrap_net.save_pretrained(ckpt_path)\n",
    "    torch.save(unwrap_net.classifier_head.state_dict(),os.path.join(ckpt_path,'classifier_head.bin'))\n",
    "    \n",
    "def load_ckpt(self, ckpt_path='checkpoint'):\n",
    "    self.net = self.net.from_pretrained(self.net.base_model.model,ckpt_path)\n",
    "    self.net.classifier_head.load_state_dict(torch.load(os.path.join(ckpt_path,'classifier_head.bin')))\n",
    "    self.from_scratch = False\n",
    "\n",
    "\n",
    "\n",
    "\n"
   ]
  },
  {
   "cell_type": "code",
   "execution_count": 9,
   "metadata": {
    "tags": []
   },
   "outputs": [],
   "source": [
    "KerasModel.StepRunner = StepRunner\n",
    "KerasModel.save_ckpt = save_ckpt\n",
    "KerasModel.load_ckpt = load_ckpt\n",
    "\n",
    "metrics_dict = {\"acc\":Accuracy()}\n",
    "\n",
    "\n",
    "optimizer = torch.optim.AdamW(model.parameters(),lr=cfg.lr) \n",
    "lr_scheduler = torch.optim.lr_scheduler.StepLR(optimizer = optimizer,step_size = cfg.scheduler_steps,gamma = cfg.scheduler_gamma)\n",
    "keras_model = KerasModel(model,loss_fn =None,\n",
    "                optimizer=optimizer,\n",
    "                lr_scheduler=lr_scheduler,\n",
    "                metrics_dict=metrics_dict\n",
    "                ) \n"
   ]
  },
  {
   "cell_type": "code",
   "execution_count": null,
   "metadata": {
    "tags": []
   },
   "outputs": [
    {
     "name": "stdout",
     "output_type": "stream",
     "text": [
      "\u001b[0;31m<<<<<< ⚡️ cuda is used >>>>>>\u001b[0m\n"
     ]
    },
    {
     "data": {
      "image/png": "[encoded data removed]",
      "text/plain": [
       "<Figure size 600x400 with 1 Axes>"
      ]
     },
     "metadata": {},
     "output_type": "display_data"
    },
    {
     "data": {
      "text/html": [
       "\n",
       "<style>\n",
       "    /* background: */\n",
       "    progress::-webkit-progress-bar {background-color: #CDCDCD; width: 100%;}\n",
       "    progress {background-color: #CDCDCD;}\n",
       "\n",
       "    /* value: */\n",
       "    progress::-webkit-progress-value {background-color: #00BFFF  !important;}\n",
       "    progress::-moz-progress-bar {background-color: #00BFFF  !important;}\n",
       "    progress {color: #00BFFF ;}\n",
       "\n",
       "    /* optional */\n",
       "    .progress-bar-interrupted, .progress-bar-interrupted::-webkit-progress-bar {\n",
       "        background: #000000;\n",
       "    }\n",
       "</style>\n"
      ],
      "text/plain": [
       "<IPython.core.display.HTML object>"
      ]
     },
     "metadata": {},
     "output_type": "display_data"
    },
    {
     "data": {
      "text/html": [
       "\n",
       "    <div>\n",
       "      <progress value='4' class='' max='10' style='width:300px; height:20px; vertical-align: middle;'></progress>\n",
       "      40.00% [4/10 1:21:14<2:01:51]\n",
       "      <br>\n",
       "      ██████▎             31.64% [2456/7763] [train_loss=1.13716,train_acc=0.75000,lr=0.00005]\n",
       "    </div>\n",
       "    "
      ],
      "text/plain": [
       "<IPython.core.display.HTML object>"
      ]
     },
     "metadata": {},
     "output_type": "display_data"
    }
   ],
   "source": [
    "dfhistory = keras_model.fit(\n",
    "    train_data=train_dl,\n",
    "    val_data=val_dl,\n",
    "    epochs = cfg.epochs,\n",
    "    monitor=\"val_loss\",\n",
    "    patience=20,\n",
    "    mode='min',\n",
    "    mixed_precision='fp16',\n",
    "    ckpt_path=cfg.save_ckpt_path,\n",
    "    gradient_accumulation_steps=cfg.gradient_accumulation_steps\n",
    ")\n",
    "dfhistory.to_csv(os.path.join(cfg.save_ckpt_path,\"result.csv\"))"
   ]
  }
 ],
 "metadata": {
  "kernelspec": {
   "display_name": "glm-conda",
   "language": "python",
   "name": "glm-conda"
  },
  "language_info": {
   "codemirror_mode": {
    "name": "ipython",
    "version": 3
   },
   "file_extension": ".py",
   "mimetype": "text/x-python",
   "name": "python",
   "nbconvert_exporter": "python",
   "pygments_lexer": "ipython3",
   "version": "3.10.11"
  },
  "toc-autonumbering": true,
  "toc-showcode": true,
  "widgets": {
   "application/vnd.jupyter.widget-state+json": {
    "state": {
     "01ffb2044074415589ba67812f372444": {
      "model_module": "@jupyter-widgets/controls",
      "model_module_version": "2.0.0",
      "model_name": "HTMLStyleModel",
      "state": {
       "description_width": "",
       "font_size": null,
       "text_color": null
      }
     },
     "2b3802f12f4b45c7930df6204cdb784b": {
      "model_module": "@jupyter-widgets/controls",
      "model_module_version": "2.0.0",
      "model_name": "HTMLStyleModel",
      "state": {
       "description_width": "",
       "font_size": null,
       "text_color": null
      }
     },
     "2bd52421e31e47ed966a12448234dfc8": {
      "model_module": "@jupyter-widgets/controls",
      "model_module_version": "2.0.0",
      "model_name": "HTMLModel",
      "state": {
       "layout": "IPY_MODEL_378be4c3f0094fe1a703ddc0ca2e705b",
       "style": "IPY_MODEL_01ffb2044074415589ba67812f372444",
       "value": "Map (num_proc=8):  75%"
      }
     },
     "378be4c3f0094fe1a703ddc0ca2e705b": {
      "model_module": "@jupyter-widgets/base",
      "model_module_version": "2.0.0",
      "model_name": "LayoutModel",
      "state": {}
     },
     "4a489463d6884b45ac8f4a25e0fb2d95": {
      "model_module": "@jupyter-widgets/base",
      "model_module_version": "2.0.0",
      "model_name": "LayoutModel",
      "state": {
       "visibility": "hidden"
      }
     },
     "4b5efc620f1a4b48b0a0d860b8ddbc2a": {
      "model_module": "@jupyter-widgets/base",
      "model_module_version": "2.0.0",
      "model_name": "LayoutModel",
      "state": {}
     },
     "504ef26f3c6d4dad93c434a263ee6ca4": {
      "model_module": "@jupyter-widgets/base",
      "model_module_version": "2.0.0",
      "model_name": "LayoutModel",
      "state": {}
     },
     "546ef2b8ecec41aa8698f3a1d3965364": {
      "model_module": "@jupyter-widgets/base",
      "model_module_version": "2.0.0",
      "model_name": "LayoutModel",
      "state": {}
     },
     "56425c926a1c4d49b29d7fe9cc732f74": {
      "model_module": "@jupyter-widgets/controls",
      "model_module_version": "2.0.0",
      "model_name": "HTMLStyleModel",
      "state": {
       "description_width": "",
       "font_size": null,
       "text_color": null
      }
     },
     "648f63839d6849c2a8e56cd4778b1930": {
      "model_module": "@jupyter-widgets/controls",
      "model_module_version": "2.0.0",
      "model_name": "HTMLModel",
      "state": {
       "layout": "IPY_MODEL_504ef26f3c6d4dad93c434a263ee6ca4",
       "style": "IPY_MODEL_7378a8f7b9344f289b852d2b9785d991",
       "value": " 7/7 [00:09&lt;00:00,  1.22s/it]"
      }
     },
     "652a499a7d634126acec1b9189ab44d4": {
      "model_module": "@jupyter-widgets/controls",
      "model_module_version": "2.0.0",
      "model_name": "HTMLModel",
      "state": {
       "layout": "IPY_MODEL_91f8d715811d42c69d50648844680911",
       "style": "IPY_MODEL_c8109765019149adab1bfa473dc7229c",
       "value": "Loading checkpoint shards: 100%"
      }
     },
     "656a5ed3078944c98d2792f15f75b4ef": {
      "model_module": "@jupyter-widgets/controls",
      "model_module_version": "2.0.0",
      "model_name": "HBoxModel",
      "state": {
       "children": [
        "IPY_MODEL_652a499a7d634126acec1b9189ab44d4",
        "IPY_MODEL_fd9018dd050b44aa8a5e2f3ba8bfff12",
        "IPY_MODEL_648f63839d6849c2a8e56cd4778b1930"
       ],
       "layout": "IPY_MODEL_ee069c33b21f4aef94142f78a4b65a0d"
      }
     },
     "67fd3e8864d5413183b38ff5fea54e1f": {
      "model_module": "@jupyter-widgets/base",
      "model_module_version": "2.0.0",
      "model_name": "LayoutModel",
      "state": {}
     },
     "7378a8f7b9344f289b852d2b9785d991": {
      "model_module": "@jupyter-widgets/controls",
      "model_module_version": "2.0.0",
      "model_name": "HTMLStyleModel",
      "state": {
       "description_width": "",
       "font_size": null,
       "text_color": null
      }
     },
     "7486f7c965114db2acd0f31e32280c6f": {
      "model_module": "@jupyter-widgets/base",
      "model_module_version": "2.0.0",
      "model_name": "LayoutModel",
      "state": {}
     },
     "79a2ff9dd26a48a0a776f250ff63f2bb": {
      "model_module": "@jupyter-widgets/controls",
      "model_module_version": "2.0.0",
      "model_name": "ProgressStyleModel",
      "state": {
       "description_width": ""
      }
     },
     "7b377c6d755248b8b33bf3b7c21646f0": {
      "model_module": "@jupyter-widgets/base",
      "model_module_version": "2.0.0",
      "model_name": "LayoutModel",
      "state": {}
     },
     "7c5a01b6f8cb40b49d29e09f3ec90249": {
      "model_module": "@jupyter-widgets/controls",
      "model_module_version": "2.0.0",
      "model_name": "FloatProgressModel",
      "state": {
       "layout": "IPY_MODEL_546ef2b8ecec41aa8698f3a1d3965364",
       "max": 1064,
       "style": "IPY_MODEL_9b62e7d26e924ec5a0cf39b001762830",
       "value": 1064
      }
     },
     "7d512b806e1b4578acae8880eb688de5": {
      "model_module": "@jupyter-widgets/controls",
      "model_module_version": "2.0.0",
      "model_name": "HTMLModel",
      "state": {
       "layout": "IPY_MODEL_7486f7c965114db2acd0f31e32280c6f",
       "style": "IPY_MODEL_2b3802f12f4b45c7930df6204cdb784b",
       "value": " 28408/31051 [00:01&lt;00:00, 27738.31 examples/s]"
      }
     },
     "7fca720429ae49fda77a7e6ef8ae752a": {
      "model_module": "@jupyter-widgets/controls",
      "model_module_version": "2.0.0",
      "model_name": "HTMLModel",
      "state": {
       "layout": "IPY_MODEL_f382ca662d864030ae589112a04ac5e6",
       "style": "IPY_MODEL_cebda79b755a40bfa99fc0cbfc34a34a",
       "value": "Map (num_proc=8):  91%"
      }
     },
     "91f8d715811d42c69d50648844680911": {
      "model_module": "@jupyter-widgets/base",
      "model_module_version": "2.0.0",
      "model_name": "LayoutModel",
      "state": {}
     },
     "9b62e7d26e924ec5a0cf39b001762830": {
      "model_module": "@jupyter-widgets/controls",
      "model_module_version": "2.0.0",
      "model_name": "ProgressStyleModel",
      "state": {
       "description_width": ""
      }
     },
     "a756546ecef64210b7ef4adc22d997e2": {
      "model_module": "@jupyter-widgets/controls",
      "model_module_version": "2.0.0",
      "model_name": "HTMLModel",
      "state": {
       "layout": "IPY_MODEL_7b377c6d755248b8b33bf3b7c21646f0",
       "style": "IPY_MODEL_56425c926a1c4d49b29d7fe9cc732f74",
       "value": " 798/1064 [00:00&lt;00:00, 3424.91 examples/s]"
      }
     },
     "c6d0a851c90c41cb9b5865815761dc3c": {
      "model_module": "@jupyter-widgets/controls",
      "model_module_version": "2.0.0",
      "model_name": "ProgressStyleModel",
      "state": {
       "description_width": ""
      }
     },
     "c8109765019149adab1bfa473dc7229c": {
      "model_module": "@jupyter-widgets/controls",
      "model_module_version": "2.0.0",
      "model_name": "HTMLStyleModel",
      "state": {
       "description_width": "",
       "font_size": null,
       "text_color": null
      }
     },
     "cebda79b755a40bfa99fc0cbfc34a34a": {
      "model_module": "@jupyter-widgets/controls",
      "model_module_version": "2.0.0",
      "model_name": "HTMLStyleModel",
      "state": {
       "description_width": "",
       "font_size": null,
       "text_color": null
      }
     },
     "d24803084d214c72b2d0021adad43761": {
      "model_module": "@jupyter-widgets/base",
      "model_module_version": "2.0.0",
      "model_name": "LayoutModel",
      "state": {
       "visibility": "hidden"
      }
     },
     "ee069c33b21f4aef94142f78a4b65a0d": {
      "model_module": "@jupyter-widgets/base",
      "model_module_version": "2.0.0",
      "model_name": "LayoutModel",
      "state": {}
     },
     "f382ca662d864030ae589112a04ac5e6": {
      "model_module": "@jupyter-widgets/base",
      "model_module_version": "2.0.0",
      "model_name": "LayoutModel",
      "state": {}
     },
     "f5acf66150ea40a186385372a20da949": {
      "model_module": "@jupyter-widgets/controls",
      "model_module_version": "2.0.0",
      "model_name": "FloatProgressModel",
      "state": {
       "layout": "IPY_MODEL_67fd3e8864d5413183b38ff5fea54e1f",
       "max": 31051,
       "style": "IPY_MODEL_79a2ff9dd26a48a0a776f250ff63f2bb",
       "value": 31051
      }
     },
     "fd9018dd050b44aa8a5e2f3ba8bfff12": {
      "model_module": "@jupyter-widgets/controls",
      "model_module_version": "2.0.0",
      "model_name": "FloatProgressModel",
      "state": {
       "bar_style": "success",
       "layout": "IPY_MODEL_4b5efc620f1a4b48b0a0d860b8ddbc2a",
       "max": 7,
       "style": "IPY_MODEL_c6d0a851c90c41cb9b5865815761dc3c",
       "value": 7
      }
     }
    },
    "version_major": 2,
    "version_minor": 0
   }
  }
 },
 "nbformat": 4,
 "nbformat_minor": 4
}
